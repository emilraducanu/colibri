{
 "cells": [
  {
   "cell_type": "code",
   "execution_count": null,
   "metadata": {},
   "outputs": [],
   "source": [
    "import sys\n",
    "\n",
    "sys.path.append(\"..\")\n",
    "import src\n",
    "\n",
    "src.scrapper.wos(\n",
    "    \"ts = (('meta*analysis' or 'systematic review') and ('soil organic carbon' or 'SOC' or 'soil organic matter' or 'SOM' or 'soil carbon'))\"\n",
    ")"
   ]
  },
  {
   "cell_type": "code",
   "execution_count": null,
   "metadata": {},
   "outputs": [],
   "source": [
    "# If the request is blocked by Clavirate,\n",
    "# this code might be useful to change the user agent\n",
    "\n",
    "# from fake_useragent import UserAgent\n",
    "# ua = UserAgent()\n",
    "# headers = {'User-Agent': ua.random}\n",
    "# response = requests.get(url, headers=headers)"
   ]
  },
  {
   "cell_type": "code",
   "execution_count": null,
   "metadata": {},
   "outputs": [],
   "source": [
    "# Get PDF\n",
    "\n",
    "# https://github.com/FRBCesab/agrite/blob/main/R/get-pdf.R\n",
    "# https://www.crossref.org/blog/open-abstracts-where-are-we/\n",
    "\n",
    "# API Sci-Hub (https://github.com/zaytoun/scihub.py/tree/master)\n",
    "\n",
    "from scihub import SciHub\n",
    "import pandas as pd\n",
    "\n",
    "sh = SciHub()\n",
    "pickle_file = \"2023-7-3_11-24-45_metadata.pkl\"\n",
    "df = pd.read_pickle(pickle_file)\n",
    "dois = df[\"DOI\"][:20]\n",
    "# print(SciHub._get_available_scihub_urls(sh))\n",
    "\n",
    "for doi, i in zip(dois, range(len(dois))):\n",
    "    sh.download(\n",
    "        str(doi), path=f\"/home/er/Documents/Cirad/SOCSciCompiler/data/test_pdf_{i}.pdf\"\n",
    "    )"
   ]
  },
  {
   "cell_type": "code",
   "execution_count": null,
   "metadata": {},
   "outputs": [],
   "source": [
    "# Google Scholar scrapping (not operational)\n",
    "# MaxTriesExceededException: Cannot Fetch from Google Scholar.\n",
    "\n",
    "# https://github.com/dimitryzub/scrape-google-scholar-py/blob/main/google_scholar_py/serpapi_backend/organic_results.py\n",
    "# https://serpapi.com/google-scholar-organic-results (no abstract/keyword only references + snippet)\n",
    "# https://harzing.com/resources/publish-or-perish (no abstract/keyword only references)\n",
    "# https://github.com/fabiobatalha/crossrefapi (no abstract/keyword only references)\n",
    "\n",
    "from scholarly import scholarly, ProxyGenerator\n",
    "import pandas as pd\n",
    "import time\n",
    "\n",
    "# pg = ProxyGenerator()\n",
    "# success = pg.FreeProxies()\n",
    "# scholarly.use_proxy(pg)\n",
    "\n",
    "data =  pd.DataFrame(columns=['Title', 'Abstract'])\n",
    "\n",
    "pubs = scholarly.search_pubs('''(\"meta-analysis\" OR \"systematic review\") AND (\"soil organic carbon\" OR \"SOC\" OR \"soil organic matter\" OR \"SOM\" OR \"soil carbon\")''', sort_by = \"date\", start_index=)\n",
    "\n",
    "for pub in pubs:\n",
    "    try:\n",
    "        data.append({'Title': pub['bib']['title'], 'Abstract': pub['bib']['abstract']}, ignore_index=True)\n",
    "\n",
    "    except Exception as e:\n",
    "        print(f\"An error occurred: {e}\")\n",
    "        continue\n",
    "\n",
    "print(data.info())\n",
    "print(data.head(20))"
   ]
  }
 ],
 "metadata": {
  "kernelspec": {
   "display_name": "ds",
   "language": "python",
   "name": "python3"
  },
  "language_info": {
   "codemirror_mode": {
    "name": "ipython",
    "version": 3
   },
   "file_extension": ".py",
   "mimetype": "text/x-python",
   "name": "python",
   "nbconvert_exporter": "python",
   "pygments_lexer": "ipython3",
   "version": "3.10.4"
  },
  "orig_nbformat": 4
 },
 "nbformat": 4,
 "nbformat_minor": 2
}
