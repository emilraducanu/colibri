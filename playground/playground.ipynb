{
 "cells": [
  {
   "cell_type": "markdown",
   "metadata": {},
   "source": [
    "![Logo](../logos/banner_colibri.png)"
   ]
  },
  {
   "cell_type": "markdown",
   "metadata": {},
   "source": [
    "---\n",
    "# 🏝️ Welcome to **colibri**'s playground!"
   ]
  },
  {
   "cell_type": "markdown",
   "metadata": {},
   "source": [
    "Here, you will be able to test all the features of the package. Adapt parameters and run the cells corresponding to the function you want to test to see the result. Make sure you activate the conda environment `colibri` and the Jupyter kernel before starting. A quick description of the functionalities is provided. More technical information is available in docstrings of each function."
   ]
  },
  {
   "cell_type": "markdown",
   "metadata": {},
   "source": [
    "---\n",
    "<br/>\n",
    "<br/>"
   ]
  },
  {
   "cell_type": "code",
   "execution_count": 1,
   "metadata": {},
   "outputs": [],
   "source": [
    "# Import colibri\n",
    "\n",
    "import sys\n",
    "\n",
    "sys.path.append(\"..\")\n",
    "import src"
   ]
  },
  {
   "cell_type": "markdown",
   "metadata": {},
   "source": [
    "\n",
    "<br/>\n",
    "\n",
    "**0. Set up your umbrella review** <br/>\n",
    "Choose the scientific field you want to sythesise by setting up a search query. Select the platforms from which you want to get publications from.<br/>\n",
    "*Nota bene:*\n",
    "- *only scientific field studying Soil Organic Carbon is currently available*\n",
    "- *only Web of Science platform is currently available*"
   ]
  },
  {
   "cell_type": "code",
   "execution_count": 2,
   "metadata": {},
   "outputs": [],
   "source": [
    "search_query = \"ts = (('meta*analysis' or 'systematic review') and ('soil organic carbon' or 'SOC' or 'soil organic matter' or 'SOM' or 'soil carbon'))\"\n",
    "platforms = [\"WoS\"]"
   ]
  },
  {
   "cell_type": "markdown",
   "metadata": {},
   "source": [
    "\n",
    "<br/>\n",
    "\n",
    "**1. Run the entire pipeline** <br/>\n",
    "From scrapping publications to characterising their content. More details in README.md file."
   ]
  },
  {
   "cell_type": "code",
   "execution_count": 4,
   "metadata": {},
   "outputs": [
    {
     "name": "stdout",
     "output_type": "stream",
     "text": [
      "\u001b[1m🐦 Welcome to the pipeline of colibri!\u001b[0m\n",
      "\n",
      "\u001b[1mPhase I - Scrapping\u001b[0m\n",
      "You selected platform(s) Web of Science Core Collection to get the publications from.\n",
      "\n",
      "Scrapping started at 2023-9-1_16-20-31 UTC.\n"
     ]
    },
    {
     "name": "stdout",
     "output_type": "stream",
     "text": [
      "Connected to Web of Science.\n"
     ]
    },
    {
     "ename": "NoSuchElementException",
     "evalue": "Message: Unable to locate element: [id=\"onetrust-reject-all-handler\"]; For documentation on this error, please visit: https://www.selenium.dev/documentation/webdriver/troubleshooting/errors#no-such-element-exception\nStacktrace:\nRemoteError@chrome://remote/content/shared/RemoteError.sys.mjs:8:8\nWebDriverError@chrome://remote/content/shared/webdriver/Errors.sys.mjs:188:5\nNoSuchElementError@chrome://remote/content/shared/webdriver/Errors.sys.mjs:506:5\ndom.find/</<@chrome://remote/content/shared/DOM.sys.mjs:132:16\n",
     "output_type": "error",
     "traceback": [
      "\u001b[0;31m---------------------------------------------------------------------------\u001b[0m",
      "\u001b[0;31mNoSuchElementException\u001b[0m                    Traceback (most recent call last)",
      "Cell \u001b[0;32mIn[4], line 1\u001b[0m\n\u001b[0;32m----> 1\u001b[0m src\u001b[39m.\u001b[39;49mwrapper\u001b[39m.\u001b[39;49mrun_pipeline(search_query, platforms)\n",
      "File \u001b[0;32m~/Documents/Cirad/colibri/playground/../src/wrapper.py:21\u001b[0m, in \u001b[0;36mrun_pipeline\u001b[0;34m(query, platforms)\u001b[0m\n\u001b[1;32m     18\u001b[0m \u001b[39mfrom\u001b[39;00m \u001b[39msrc\u001b[39;00m\u001b[39m.\u001b[39;00m\u001b[39mscrapper\u001b[39;00m \u001b[39mimport\u001b[39;00m scrape, merger_cleaner\n\u001b[1;32m     20\u001b[0m \u001b[39mprint\u001b[39m(\u001b[39m\"\u001b[39m\u001b[39m\\n\u001b[39;00m\u001b[39m\\033\u001b[39;00m\u001b[39m[1mPhase I - Scrapping\u001b[39m\u001b[39m\\033\u001b[39;00m\u001b[39m[0m\u001b[39m\u001b[39m\"\u001b[39m)\n\u001b[0;32m---> 21\u001b[0m scrapped_pub_data_dir \u001b[39m=\u001b[39m scrape(query, platforms)\n\u001b[1;32m     22\u001b[0m merged_cleaned_pub_dir \u001b[39m=\u001b[39m merger_cleaner(scrapped_pub_data_dir)\n\u001b[1;32m     24\u001b[0m \u001b[39mprint\u001b[39m(\u001b[39m\"\u001b[39m\u001b[39m\\n\u001b[39;00m\u001b[39m\\033\u001b[39;00m\u001b[39m[1mPhase II - Filtering\u001b[39m\u001b[39m\\033\u001b[39;00m\u001b[39m[0m\u001b[39m\u001b[39m\"\u001b[39m)\n",
      "File \u001b[0;32m~/Documents/Cirad/colibri/playground/../src/scrapper.py:314\u001b[0m, in \u001b[0;36mscrape\u001b[0;34m(query, platforms)\u001b[0m\n\u001b[1;32m    311\u001b[0m     os\u001b[39m.\u001b[39mmakedirs(data_dir)\n\u001b[1;32m    313\u001b[0m     \u001b[39mfor\u001b[39;00m platform \u001b[39min\u001b[39;00m valid_platforms:\n\u001b[0;32m--> 314\u001b[0m         PLATFORM_MAP\u001b[39m.\u001b[39;49mget(platform)[\u001b[39m1\u001b[39;49m](data_dir, query)\n\u001b[1;32m    316\u001b[0m \u001b[39mreturn\u001b[39;00m data_dir\n",
      "File \u001b[0;32m~/Documents/Cirad/colibri/playground/../src/scrapper.py:133\u001b[0m, in \u001b[0;36mwos\u001b[0;34m(data_dir, query)\u001b[0m\n\u001b[1;32m    130\u001b[0m \u001b[39mprint\u001b[39m(\u001b[39mf\u001b[39m\u001b[39m\"\u001b[39m\u001b[39mConnected to Web of Science.\u001b[39m\u001b[39m\"\u001b[39m)\n\u001b[1;32m    132\u001b[0m time\u001b[39m.\u001b[39msleep(\u001b[39m5\u001b[39m)\n\u001b[0;32m--> 133\u001b[0m driver\u001b[39m.\u001b[39;49mfind_element(By\u001b[39m.\u001b[39;49mID, \u001b[39m\"\u001b[39;49m\u001b[39monetrust-reject-all-handler\u001b[39;49m\u001b[39m\"\u001b[39;49m)\u001b[39m.\u001b[39mclick()\n\u001b[1;32m    135\u001b[0m time\u001b[39m.\u001b[39msleep(\u001b[39m5\u001b[39m)\n\u001b[1;32m    136\u001b[0m search_input \u001b[39m=\u001b[39m driver\u001b[39m.\u001b[39mfind_element(By\u001b[39m.\u001b[39mID, \u001b[39m\"\u001b[39m\u001b[39madvancedSearchInputArea\u001b[39m\u001b[39m\"\u001b[39m)\n",
      "File \u001b[0;32m~/anaconda3/envs/ds/lib/python3.10/site-packages/selenium/webdriver/remote/webdriver.py:740\u001b[0m, in \u001b[0;36mWebDriver.find_element\u001b[0;34m(self, by, value)\u001b[0m\n\u001b[1;32m    737\u001b[0m     by \u001b[39m=\u001b[39m By\u001b[39m.\u001b[39mCSS_SELECTOR\n\u001b[1;32m    738\u001b[0m     value \u001b[39m=\u001b[39m \u001b[39mf\u001b[39m\u001b[39m'\u001b[39m\u001b[39m[name=\u001b[39m\u001b[39m\"\u001b[39m\u001b[39m{\u001b[39;00mvalue\u001b[39m}\u001b[39;00m\u001b[39m\"\u001b[39m\u001b[39m]\u001b[39m\u001b[39m'\u001b[39m\n\u001b[0;32m--> 740\u001b[0m \u001b[39mreturn\u001b[39;00m \u001b[39mself\u001b[39;49m\u001b[39m.\u001b[39;49mexecute(Command\u001b[39m.\u001b[39;49mFIND_ELEMENT, {\u001b[39m\"\u001b[39;49m\u001b[39musing\u001b[39;49m\u001b[39m\"\u001b[39;49m: by, \u001b[39m\"\u001b[39;49m\u001b[39mvalue\u001b[39;49m\u001b[39m\"\u001b[39;49m: value})[\u001b[39m\"\u001b[39m\u001b[39mvalue\u001b[39m\u001b[39m\"\u001b[39m]\n",
      "File \u001b[0;32m~/anaconda3/envs/ds/lib/python3.10/site-packages/selenium/webdriver/remote/webdriver.py:346\u001b[0m, in \u001b[0;36mWebDriver.execute\u001b[0;34m(self, driver_command, params)\u001b[0m\n\u001b[1;32m    344\u001b[0m response \u001b[39m=\u001b[39m \u001b[39mself\u001b[39m\u001b[39m.\u001b[39mcommand_executor\u001b[39m.\u001b[39mexecute(driver_command, params)\n\u001b[1;32m    345\u001b[0m \u001b[39mif\u001b[39;00m response:\n\u001b[0;32m--> 346\u001b[0m     \u001b[39mself\u001b[39;49m\u001b[39m.\u001b[39;49merror_handler\u001b[39m.\u001b[39;49mcheck_response(response)\n\u001b[1;32m    347\u001b[0m     response[\u001b[39m\"\u001b[39m\u001b[39mvalue\u001b[39m\u001b[39m\"\u001b[39m] \u001b[39m=\u001b[39m \u001b[39mself\u001b[39m\u001b[39m.\u001b[39m_unwrap_value(response\u001b[39m.\u001b[39mget(\u001b[39m\"\u001b[39m\u001b[39mvalue\u001b[39m\u001b[39m\"\u001b[39m, \u001b[39mNone\u001b[39;00m))\n\u001b[1;32m    348\u001b[0m     \u001b[39mreturn\u001b[39;00m response\n",
      "File \u001b[0;32m~/anaconda3/envs/ds/lib/python3.10/site-packages/selenium/webdriver/remote/errorhandler.py:245\u001b[0m, in \u001b[0;36mErrorHandler.check_response\u001b[0;34m(self, response)\u001b[0m\n\u001b[1;32m    243\u001b[0m         alert_text \u001b[39m=\u001b[39m value[\u001b[39m\"\u001b[39m\u001b[39malert\u001b[39m\u001b[39m\"\u001b[39m]\u001b[39m.\u001b[39mget(\u001b[39m\"\u001b[39m\u001b[39mtext\u001b[39m\u001b[39m\"\u001b[39m)\n\u001b[1;32m    244\u001b[0m     \u001b[39mraise\u001b[39;00m exception_class(message, screen, stacktrace, alert_text)  \u001b[39m# type: ignore[call-arg]  # mypy is not smart enough here\u001b[39;00m\n\u001b[0;32m--> 245\u001b[0m \u001b[39mraise\u001b[39;00m exception_class(message, screen, stacktrace)\n",
      "\u001b[0;31mNoSuchElementException\u001b[0m: Message: Unable to locate element: [id=\"onetrust-reject-all-handler\"]; For documentation on this error, please visit: https://www.selenium.dev/documentation/webdriver/troubleshooting/errors#no-such-element-exception\nStacktrace:\nRemoteError@chrome://remote/content/shared/RemoteError.sys.mjs:8:8\nWebDriverError@chrome://remote/content/shared/webdriver/Errors.sys.mjs:188:5\nNoSuchElementError@chrome://remote/content/shared/webdriver/Errors.sys.mjs:506:5\ndom.find/</<@chrome://remote/content/shared/DOM.sys.mjs:132:16\n"
     ]
    }
   ],
   "source": [
    "src.wrapper.run_pipeline(search_query, platforms)"
   ]
  },
  {
   "cell_type": "markdown",
   "metadata": {},
   "source": [
    "<br/>\n",
    "\n",
    "**2. Scrapping** <br/>\n",
    "Scrape publications on various platform with a specific search query. DOIs, titles, abstracts and keywords (when available) of each publication will be stored in Pickle files in folder `colibri/data/<yyyy>-<mm>-<dd>_<hh>-<mm>-<ss>` with the corresponding timestamp of your scrapping."
   ]
  },
  {
   "cell_type": "code",
   "execution_count": null,
   "metadata": {},
   "outputs": [],
   "source": [
    "src.scrapper.scrape(search_query, [\"WoS\"], src.glob_var.PLATFORM_MAP)"
   ]
  }
 ],
 "metadata": {
  "kernelspec": {
   "display_name": "ds",
   "language": "python",
   "name": "python3"
  },
  "language_info": {
   "codemirror_mode": {
    "name": "ipython",
    "version": 3
   },
   "file_extension": ".py",
   "mimetype": "text/x-python",
   "name": "python",
   "nbconvert_exporter": "python",
   "pygments_lexer": "ipython3",
   "version": "3.10.4"
  },
  "orig_nbformat": 4
 },
 "nbformat": 4,
 "nbformat_minor": 2
}
