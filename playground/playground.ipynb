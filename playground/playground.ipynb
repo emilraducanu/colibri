{
 "cells": [
  {
   "cell_type": "markdown",
   "metadata": {},
   "source": [
    "![Logo](../visualisations/logos/banner_colibri.png)"
   ]
  },
  {
   "cell_type": "markdown",
   "metadata": {},
   "source": [
    "---\n",
    "# 🏝️ Welcome to **colibri**'s playground!"
   ]
  },
  {
   "cell_type": "markdown",
   "metadata": {},
   "source": [
    "Here, you will be able to test all the features of the package. Adapt parameters and run the cells corresponding to the function you want to test to see the result. Make sure you activate the conda environment `colibri` and the Jupyter kernel before starting. A quick description of the functionalities is provided. More technical information is available in Docstrings of each function."
   ]
  },
  {
   "cell_type": "markdown",
   "metadata": {},
   "source": [
    "---\n",
    "<br/>\n",
    "<br/>"
   ]
  },
  {
   "cell_type": "code",
   "execution_count": null,
   "metadata": {},
   "outputs": [],
   "source": [
    "# Import colibri\n",
    "\n",
    "import sys\n",
    "\n",
    "sys.path.append(\"..\")\n",
    "import src"
   ]
  },
  {
   "cell_type": "markdown",
   "metadata": {},
   "source": [
    "\n",
    "<br/>\n",
    "\n",
    "**0. Set up your umbrella review** <br/>\n",
    "Choose the scientific field you want to sythesise by setting up a search query. Select the platforms from which you want to get publications from.<br/>\n",
    "*Nota bene:*\n",
    "- *only scientific field studying Soil Organic Carbon is currently available*\n",
    "- *only Web of Science platform is currently available*"
   ]
  },
  {
   "cell_type": "code",
   "execution_count": null,
   "metadata": {},
   "outputs": [],
   "source": [
    "search_query = \"ts = (('meta*analysis' or 'systematic review') and ('soil organic carbon' or 'SOC' or 'soil organic matter' or 'SOM' or 'soil carbon'))\"\n",
    "platforms = [\"WoS\"]"
   ]
  },
  {
   "cell_type": "markdown",
   "metadata": {},
   "source": [
    "\n",
    "<br/>\n",
    "\n",
    "**1. Run the entire pipeline** <br/>\n",
    "From scrapping publications to characterising their content. More details in README.md file."
   ]
  },
  {
   "cell_type": "code",
   "execution_count": null,
   "metadata": {},
   "outputs": [],
   "source": [
    "src.wrapper.run_pipeline(search_query, platforms)"
   ]
  },
  {
   "cell_type": "markdown",
   "metadata": {},
   "source": [
    "<br/>\n",
    "\n",
    "**2. Scrape, merge and clean publications** <br/>\n",
    "Scrape publications on various platforms with a specific search query. DOIs, titles, abstracts and keywords (when available) of each publication will be stored in Pickle files in directory `colibri/data/<yyyy>-<mm>-<dd>_<hh>-<mm>-<ss>` with the corresponding timestamp of your scrapping."
   ]
  },
  {
   "cell_type": "code",
   "execution_count": null,
   "metadata": {},
   "outputs": [],
   "source": [
    "src.scrapper.merger_cleaner(src.scrapper.scrape(search_query, platforms))"
   ]
  },
  {
   "cell_type": "markdown",
   "metadata": {},
   "source": [
    "<br/>\n",
    "\n",
    "**3. Plot scrapping statistics** <br/>\n",
    "Update the visualisation of the number of papers scrapped over time given a specific search query and platforms. The graph is stored in `colibri/visualisations/scrapping_over_time.png` file."
   ]
  },
  {
   "cell_type": "code",
   "execution_count": null,
   "metadata": {},
   "outputs": [],
   "source": [
    "src.scrapper.scrapping_over_time()"
   ]
  },
  {
   "cell_type": "markdown",
   "metadata": {},
   "source": [
    "<br/>\n",
    "\n",
    "**4. Fine-tuning of the classification model** <br/>\n",
    "Fine-tune the DistilBERT model and save the weights in `colibri/data/distilbert_runs/<yyyy>-<mm>-<dd>_<hh>-<mm>-<ss>/fine_tuned_model.pt` file."
   ]
  },
  {
   "cell_type": "code",
   "execution_count": null,
   "metadata": {},
   "outputs": [],
   "source": [
    "config = {\n",
    "    \"epochs\": 50,\n",
    "    \"batch_size\": 32,\n",
    "    \"learning_rate\": 1e-3,\n",
    "    \"dropout\": 0.3,\n",
    "    \"padding_length\": 100,\n",
    "    \"testset_size\": 0.2,\n",
    "    \"distilbert_trainset_path\": \"/home/er/Documents/Cirad/colibri/data/distilbert_trainset/trainset.pkl\",\n",
    "}\n",
    "\n",
    "src.filter.train_distilbert(config)"
   ]
  },
  {
   "cell_type": "markdown",
   "metadata": {},
   "source": [
    "<br/>\n",
    "\n",
    "**5. Download pulications PDFs from DOIs** <br/>\n",
    "From a list of DOIs, download PDFs corresponding to publications, then stored in `colibri/data/pub_pdf` directory and mapped in `colibri/data/pub_pdf/pdf_mapping.pkl` file."
   ]
  },
  {
   "cell_type": "code",
   "execution_count": null,
   "metadata": {},
   "outputs": [],
   "source": [
    "doi_list = [\n",
    "    \"10.1016/j.earscirev.2022.104214\",\n",
    "    \"10.1016/j.jaridenv.2017.02.001\",\n",
    "    \"10.1016/j.soilbio.2018.06.014\",\n",
    "    \"10.1186/s13750-021-00221-3\",\n",
    "    \"10.1016/j.catena.2021.105227\",\n",
    "    \"10.1111/ejss.12492\",\n",
    "    \"10.1111/gcb.15489\",\n",
    "    \"10.1016/j.catena.2023.107409\",\n",
    "    \"10.5194/soil-7-785-2021\",\n",
    "    \"10.1111/nph.18458\",\n",
    "]\n",
    "\n",
    "src.characteriser.get_pdf(doi_list)"
   ]
  },
  {
   "cell_type": "markdown",
   "metadata": {},
   "source": [
    "<br/>\n",
    "\n",
    "**6. Pandas Dataframe to JSON file** <br/>\n",
    "Convert a Dataframe with specific columns into the final JSON output database (cf. `data/template_output_database`)"
   ]
  },
  {
   "cell_type": "code",
   "execution_count": null,
   "metadata": {},
   "outputs": [],
   "source": [
    "import json\n",
    "import pandas as pd\n",
    "\n",
    "# Example of data\n",
    "data = {\n",
    "    \"DOI\": [\"10.1111/gcbb.12234\", \"10.1890/10-0660.1\", \"10.1016/j.still.2020.104575\"],\n",
    "    \"Title\": [\n",
    "        \"Emission of CO2 from biochar-amended soils and implications for soil organic carbon\",\n",
    "        \"Fire effects on temperate forest soil C and N storage\",\n",
    "        \"A calculator to quantify cover crop effects on soil health and productivity\",\n",
    "    ],\n",
    "    \"Abstract\": [\"Abstract 1\", \"Abstract 2\", \"Abstract 3\"],\n",
    "    \"Keywords\": [\n",
    "        [\n",
    "            \"additive effects\",\n",
    "            \"carbon sequestration\",\n",
    "            \"decomposition\",\n",
    "            \"priming\",\n",
    "            \"pyrogenic organic matter\",\n",
    "            \"recalcitrance\",\n",
    "        ],\n",
    "        [\n",
    "            \"carbon sinks\",\n",
    "            \"fire\",\n",
    "            \"forest management\",\n",
    "            \"meta-analysis\",\n",
    "            \"soil carbon\",\n",
    "            \"soil\",\n",
    "            \"nitrogen\",\n",
    "            \"temperate forests\",\n",
    "        ],\n",
    "        [\"conservation agriculture\", \"soil quality\", \"meta-analysis\"],\n",
    "    ],\n",
    "    \"Authors\": [\n",
    "        [\"Sagrilo, E\", \"Jeffery, S\", \"Hoffland, E\", \"Kuyper, TW\"],\n",
    "        [\"Nave, LE\", \"Vance, ED\", \"Swanston, CW\", \"Curtis, PS\"],\n",
    "        [\"Jian, JS\", \"Lester, BJ\", \"Du, X\", \"Reiter, MS\", \"Stewart, RD\"],\n",
    "    ],\n",
    "    \"Publication year\": [2015, 2011, 2020],\n",
    "    \"Journal\": [\n",
    "        \"Global change biology bioenergy\",\n",
    "        \"Ecological applications\",\n",
    "        \"Soil & tillage research\",\n",
    "    ],\n",
    "    \"Platforms origin\": [[\"WoS\"], [\"WoS\"], [\"WoS\"]],\n",
    "    \"Population\": [\"Cropland\", \"Forest land\", \"Cropland\"],\n",
    "    \"Intervention\": [\"Management\", \"Management\", \"Management\"],\n",
    "    \"Sub-intervention\": [\"Amendments pyrogenic\", \"Fire\", \"Cover crops\"],\n",
    "    \"Sub-sub-intervention\": [\"Biochar\", \"N/A\", \"Annual crops\"],\n",
    "    \"Control\": [\"No amendments pyrogenic\", \"No fire\", \"No cropland\"],\n",
    "    \"Outcome\": [\"Bulk soil\", \"Bulk soil\", \"Soil fractions\"],\n",
    "    \"Sub-outcome\": [\"SOC concentration\", \"SOC stock\", \"Dissolved organic carbon\"],\n",
    "    \"Measure\": [\n",
    "        {\"Lower CI\": 0.9329, \"Mean\": 1.0335, \"Upper CI\": 1.1432},\n",
    "        {\"Lower CI\": -58.05, \"Mean\": -46.15, \"Upper CI\": -34.05},\n",
    "        {\n",
    "            \"Lower CI\": -82.0462850182704,\n",
    "            \"Mean\": -75.3227771010962,\n",
    "            \"Upper CI\": -66.2606577344701,\n",
    "        },\n",
    "    ],\n",
    "    \"Paired data\": [179, 38, 83],\n",
    "    \"PS DOIs\": [\n",
    "        [\n",
    "            \"10.14454/qn00-qx85\",\n",
    "            \"10.14454/3w3z-sa82\",\n",
    "            \"10.14454/3bpw-w381\",\n",
    "            \"10.1590/s0102-69922012000200010\",\n",
    "            \"...\",\n",
    "        ],\n",
    "        [\n",
    "            \"10.1111/j.1468-1293.2012.01029_12.x\",\n",
    "            \"10.1016/j.apcatb.2012.06.004\",\n",
    "            \"10.1016/j.powtec.2011.12.057\",\n",
    "            \"...\",\n",
    "        ],\n",
    "        \"N/A\",\n",
    "    ],\n",
    "}\n",
    "\n",
    "df = pd.DataFrame(data)\n",
    "output_file_path = \"path/to/your/file.json\"\n",
    "\n",
    "src.characteriser.df2json(df, output_file_path)\n",
    "\n",
    "with open(output_file_path, \"r\") as json_file:\n",
    "    json_data = json.load(json_file)\n",
    "print(json.dumps(json_data, indent=4))"
   ]
  }
 ],
 "metadata": {
  "kernelspec": {
   "display_name": "ds",
   "language": "python",
   "name": "python3"
  },
  "language_info": {
   "codemirror_mode": {
    "name": "ipython",
    "version": 3
   },
   "file_extension": ".py",
   "mimetype": "text/x-python",
   "name": "python",
   "nbconvert_exporter": "python",
   "pygments_lexer": "ipython3",
   "version": "3.11.5"
  },
  "orig_nbformat": 4
 },
 "nbformat": 4,
 "nbformat_minor": 2
}
