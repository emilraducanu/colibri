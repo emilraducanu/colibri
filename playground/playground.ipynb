{
 "cells": [
  {
   "cell_type": "markdown",
   "metadata": {},
   "source": [
    "![Logo](../visualisations/logos/banner_colibri.png)"
   ]
  },
  {
   "cell_type": "markdown",
   "metadata": {},
   "source": [
    "---\n",
    "# 🏝️ Welcome to **colibri**'s playground!"
   ]
  },
  {
   "cell_type": "markdown",
   "metadata": {},
   "source": [
    "Here, you will be able to test all the features of the package. Adapt parameters and run the cells corresponding to the function you want to test to see the result. Make sure you activate the conda environment `colibri` and the Jupyter kernel before starting. A quick description of the functionalities is provided. More technical information is available in Docstrings of each function."
   ]
  },
  {
   "cell_type": "markdown",
   "metadata": {},
   "source": [
    "---\n",
    "<br/>\n",
    "<br/>"
   ]
  },
  {
   "cell_type": "code",
   "execution_count": null,
   "metadata": {},
   "outputs": [],
   "source": [
    "# Import colibri\n",
    "\n",
    "import sys\n",
    "\n",
    "sys.path.append(\"..\")\n",
    "import src"
   ]
  },
  {
   "cell_type": "markdown",
   "metadata": {},
   "source": [
    "\n",
    "<br/>\n",
    "\n",
    "**0. Set up your umbrella review** <br/>\n",
    "Choose the scientific field you want to sythesise by setting up a search query. Select the platforms from which you want to get publications from.<br/>\n",
    "*Nota bene:*\n",
    "- *only scientific field studying Soil Organic Carbon is currently available*\n",
    "- *only Web of Science platform is currently available*"
   ]
  },
  {
   "cell_type": "code",
   "execution_count": null,
   "metadata": {},
   "outputs": [],
   "source": [
    "search_query = \"ts = (('meta*analysis' or 'systematic review') and ('soil organic carbon' or 'SOC' or 'soil organic matter' or 'SOM' or 'soil carbon'))\"\n",
    "platforms = [\"WoS\"]"
   ]
  },
  {
   "cell_type": "markdown",
   "metadata": {},
   "source": [
    "\n",
    "<br/>\n",
    "\n",
    "**1. Run the entire pipeline** <br/>\n",
    "From scrapping publications to characterising their content. More details in README.md file."
   ]
  },
  {
   "cell_type": "code",
   "execution_count": null,
   "metadata": {},
   "outputs": [],
   "source": [
    "src.wrapper.run_pipeline(search_query, platforms)"
   ]
  },
  {
   "cell_type": "markdown",
   "metadata": {},
   "source": [
    "<br/>\n",
    "\n",
    "**2. Scrape, merge and clean publications** <br/>\n",
    "Scrape publications on various platforms with a specific search query. DOIs, titles, abstracts and keywords (when available) of each publication will be stored in Pickle files in directory `colibri/data/<yyyy>-<mm>-<dd>_<hh>-<mm>-<ss>` with the corresponding timestamp of your scrapping."
   ]
  },
  {
   "cell_type": "code",
   "execution_count": null,
   "metadata": {},
   "outputs": [],
   "source": [
    "src.scrapper.merger_cleaner(src.scrapper.scrape(search_query, platforms))"
   ]
  },
  {
   "cell_type": "markdown",
   "metadata": {},
   "source": [
    "<br/>\n",
    "\n",
    "**3. Plot scrapping statistics** <br/>\n",
    "Update the visualisation of the number of papers scrapped over time given a specific search query and platforms. The graph is stored in `colibri/visualisations/scrapping_over_time.png` file."
   ]
  },
  {
   "cell_type": "code",
   "execution_count": null,
   "metadata": {},
   "outputs": [],
   "source": [
    "src.scrapper.scrapping_over_time()"
   ]
  },
  {
   "cell_type": "markdown",
   "metadata": {},
   "source": [
    "<br/>\n",
    "\n",
    "**4. Fine-tuning of the classification model** <br/>\n",
    "Fine-tune the DistilBERT model and save the weights in `colibri/data/distilbert_runs/<yyyy>-<mm>-<dd>_<hh>-<mm>-<ss>/fine_tuned_model.pt` file."
   ]
  },
  {
   "cell_type": "code",
   "execution_count": null,
   "metadata": {},
   "outputs": [],
   "source": [
    "config = {\n",
    "    \"epochs\": 50,\n",
    "    \"batch_size\": 32,\n",
    "    \"learning_rate\": 1e-3,\n",
    "    \"dropout\": 0.3,\n",
    "    \"padding_length\": 100,\n",
    "    \"testset_size\": 0.2,\n",
    "    \"distilbert_trainset_path\": \"/home/er/Documents/Cirad/colibri/data/distilbert_trainset/trainset.pkl\",\n",
    "}\n",
    "\n",
    "src.filter.train_distilbert(config)"
   ]
  },
  {
   "cell_type": "markdown",
   "metadata": {},
   "source": [
    "<br/>\n",
    "\n",
    "**5. Download pulications PDFs from DOIs** <br/>\n",
    "From a list of DOIs, download PDFs corresponding to publications, then stored in `colibri/data/pub_pdf` directory and mapped in `colibri/data/pub_pdf/pdf_mapping.pkl` file."
   ]
  },
  {
   "cell_type": "code",
   "execution_count": null,
   "metadata": {},
   "outputs": [],
   "source": [
    "doi_list = [\n",
    "    \"10.1016/j.earscirev.2022.104214\",\n",
    "    \"10.1016/j.jaridenv.2017.02.001\",\n",
    "    \"10.1016/j.soilbio.2018.06.014\",\n",
    "    \"10.1186/s13750-021-00221-3\",\n",
    "    \"10.1016/j.catena.2021.105227\",\n",
    "    \"10.1111/ejss.12492\",\n",
    "    \"10.1111/gcb.15489\",\n",
    "    \"10.1016/j.catena.2023.107409\",\n",
    "    \"10.5194/soil-7-785-2021\",\n",
    "    \"10.1111/nph.18458\",\n",
    "]\n",
    "\n",
    "src.characteriser.get_pdf(doi_list)"
   ]
  }
 ],
 "metadata": {
  "kernelspec": {
   "display_name": "ds",
   "language": "python",
   "name": "python3"
  },
  "language_info": {
   "codemirror_mode": {
    "name": "ipython",
    "version": 3
   },
   "file_extension": ".py",
   "mimetype": "text/x-python",
   "name": "python",
   "nbconvert_exporter": "python",
   "pygments_lexer": "ipython3",
   "version": "3.10.4"
  },
  "orig_nbformat": 4
 },
 "nbformat": 4,
 "nbformat_minor": 2
}
