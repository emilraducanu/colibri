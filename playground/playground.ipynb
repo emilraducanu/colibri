{
 "cells": [
  {
   "cell_type": "markdown",
   "metadata": {},
   "source": [
    "![Logo](../logos/banner_colibri.png)"
   ]
  },
  {
   "cell_type": "markdown",
   "metadata": {},
   "source": [
    "---\n",
    "# 🏝️ Welcome to **colibri**'s playground!"
   ]
  },
  {
   "cell_type": "markdown",
   "metadata": {},
   "source": [
    "Here, you will be able to test all the features of the package. Adapt parameters and run the cells corresponding to the function you want to test to see the result. Make sure you activate the conda environment `colibri` and the Jupyter kernel before starting. A quick description of the functionalities is provided. More technical information is available in docstrings of each function."
   ]
  },
  {
   "cell_type": "markdown",
   "metadata": {},
   "source": [
    "---\n",
    "<br/>\n",
    "<br/>"
   ]
  },
  {
   "cell_type": "code",
   "execution_count": 1,
   "metadata": {},
   "outputs": [],
   "source": [
    "# Import colibri\n",
    "\n",
    "import sys\n",
    "\n",
    "sys.path.append(\"..\")\n",
    "import src"
   ]
  },
  {
   "cell_type": "markdown",
   "metadata": {},
   "source": [
    "\n",
    "<br/>\n",
    "\n",
    "**1. Run the entire pipeline** <br/>\n",
    "xxx"
   ]
  },
  {
   "cell_type": "code",
   "execution_count": 2,
   "metadata": {},
   "outputs": [
    {
     "name": "stdout",
     "output_type": "stream",
     "text": [
      "\u001b[1m🐦 Welcome to the pipeline of colibri!\u001b[0m\n",
      "You selected platform(s) Web of Science Core Collection to get the publications from.\n",
      "\n",
      "Scrapping started at 2023-8-3_19-37-9 UTC.\n",
      "Connected to Web of Science.\n",
      "Found 1613 papers.\n"
     ]
    },
    {
     "ename": "ValueError",
     "evalue": "max() arg is an empty sequence",
     "output_type": "error",
     "traceback": [
      "\u001b[0;31m---------------------------------------------------------------------------\u001b[0m",
      "\u001b[0;31mValueError\u001b[0m                                Traceback (most recent call last)",
      "Cell \u001b[0;32mIn[2], line 2\u001b[0m\n\u001b[1;32m      1\u001b[0m query \u001b[39m=\u001b[39m \u001b[39m\"\u001b[39m\u001b[39mts = ((\u001b[39m\u001b[39m'\u001b[39m\u001b[39mmeta*analysis\u001b[39m\u001b[39m'\u001b[39m\u001b[39m or \u001b[39m\u001b[39m'\u001b[39m\u001b[39msystematic review\u001b[39m\u001b[39m'\u001b[39m\u001b[39m) and (\u001b[39m\u001b[39m'\u001b[39m\u001b[39msoil organic carbon\u001b[39m\u001b[39m'\u001b[39m\u001b[39m or \u001b[39m\u001b[39m'\u001b[39m\u001b[39mSOC\u001b[39m\u001b[39m'\u001b[39m\u001b[39m or \u001b[39m\u001b[39m'\u001b[39m\u001b[39msoil organic matter\u001b[39m\u001b[39m'\u001b[39m\u001b[39m or \u001b[39m\u001b[39m'\u001b[39m\u001b[39mSOM\u001b[39m\u001b[39m'\u001b[39m\u001b[39m or \u001b[39m\u001b[39m'\u001b[39m\u001b[39msoil carbon\u001b[39m\u001b[39m'\u001b[39m\u001b[39m))\u001b[39m\u001b[39m\"\u001b[39m\n\u001b[0;32m----> 2\u001b[0m src\u001b[39m.\u001b[39;49mwrapper\u001b[39m.\u001b[39;49mrun_pipeline(query, [\u001b[39m\"\u001b[39;49m\u001b[39mWoS\u001b[39;49m\u001b[39m\"\u001b[39;49m])\n",
      "File \u001b[0;32m~/Documents/Cirad/colibri/playground/../src/wrapper.py:20\u001b[0m, in \u001b[0;36mrun_pipeline\u001b[0;34m(query, platforms)\u001b[0m\n\u001b[1;32m     17\u001b[0m sys\u001b[39m.\u001b[39mpath\u001b[39m.\u001b[39mappend(\u001b[39m\"\u001b[39m\u001b[39m..\u001b[39m\u001b[39m\"\u001b[39m)\n\u001b[1;32m     18\u001b[0m \u001b[39mimport\u001b[39;00m \u001b[39msrc\u001b[39;00m\n\u001b[0;32m---> 20\u001b[0m src\u001b[39m.\u001b[39;49mscrapper\u001b[39m.\u001b[39;49mscrape(query, platforms)\n",
      "File \u001b[0;32m~/Documents/Cirad/colibri/playground/../src/scrapper.py:240\u001b[0m, in \u001b[0;36mscrape\u001b[0;34m(query, platforms)\u001b[0m\n\u001b[1;32m    237\u001b[0m os\u001b[39m.\u001b[39mmakedirs(data_folder)\n\u001b[1;32m    239\u001b[0m \u001b[39mfor\u001b[39;00m platform \u001b[39min\u001b[39;00m valid_platforms:\n\u001b[0;32m--> 240\u001b[0m     platform_map\u001b[39m.\u001b[39;49mget(platform)[\u001b[39m1\u001b[39;49m](data_folder, query)\n",
      "File \u001b[0;32m~/Documents/Cirad/colibri/playground/../src/scrapper.py:120\u001b[0m, in \u001b[0;36mwos\u001b[0;34m(data_folder, query)\u001b[0m\n\u001b[1;32m    115\u001b[0m     shutil\u001b[39m.\u001b[39mmove(\n\u001b[1;32m    116\u001b[0m         latest_file, os\u001b[39m.\u001b[39mpath\u001b[39m.\u001b[39mjoin(tmp_xls_files, \u001b[39mstr\u001b[39m(input_aera_index \u001b[39m+\u001b[39m \u001b[39m1\u001b[39m) \u001b[39m+\u001b[39m \u001b[39m\"\u001b[39m\u001b[39m.xls\u001b[39m\u001b[39m\"\u001b[39m)\n\u001b[1;32m    117\u001b[0m     )\n\u001b[1;32m    119\u001b[0m \u001b[39mfor\u001b[39;00m batch_nb \u001b[39min\u001b[39;00m \u001b[39mrange\u001b[39m(\u001b[39mint\u001b[39m(\u001b[39mint\u001b[39m(nb_results) \u001b[39m/\u001b[39m \u001b[39m1000\u001b[39m)):\n\u001b[0;32m--> 120\u001b[0m     downloader(batch_nb, \u001b[39mint\u001b[39;49m(batch_nb \u001b[39m*\u001b[39;49m \u001b[39m1000\u001b[39;49m) \u001b[39m+\u001b[39;49m \u001b[39m1\u001b[39;49m, \u001b[39mint\u001b[39;49m(batch_nb \u001b[39m*\u001b[39;49m \u001b[39m1000\u001b[39;49m) \u001b[39m+\u001b[39;49m \u001b[39m1000\u001b[39;49m)\n\u001b[1;32m    121\u001b[0m     downloaded_count \u001b[39m=\u001b[39m (batch_nb \u001b[39m+\u001b[39m \u001b[39m1\u001b[39m) \u001b[39m*\u001b[39m \u001b[39m1000\u001b[39m\n\u001b[1;32m    122\u001b[0m     \u001b[39mprint\u001b[39m(\u001b[39mf\u001b[39m\u001b[39m\"\u001b[39m\u001b[39m{\u001b[39;00mdownloaded_count\u001b[39m}\u001b[39;00m\u001b[39m papers downloaded over \u001b[39m\u001b[39m{\u001b[39;00mnb_results\u001b[39m}\u001b[39;00m\u001b[39m.\u001b[39m\u001b[39m\"\u001b[39m)\n",
      "File \u001b[0;32m~/Documents/Cirad/colibri/playground/../src/scrapper.py:114\u001b[0m, in \u001b[0;36mwos.<locals>.downloader\u001b[0;34m(input_aera_index, sent_key_low, sent_key_high)\u001b[0m\n\u001b[1;32m    112\u001b[0m     \u001b[39mif\u001b[39;00m filename\u001b[39m.\u001b[39mstartswith(\u001b[39m\"\u001b[39m\u001b[39msavedrecs\u001b[39m\u001b[39m\"\u001b[39m) \u001b[39mand\u001b[39;00m filename\u001b[39m.\u001b[39mendswith(\u001b[39m\"\u001b[39m\u001b[39m.xls\u001b[39m\u001b[39m\"\u001b[39m):\n\u001b[1;32m    113\u001b[0m         full_path_downloaded_files\u001b[39m.\u001b[39mappend(download_directory \u001b[39m+\u001b[39m \u001b[39m\"\u001b[39m\u001b[39m/\u001b[39m\u001b[39m\"\u001b[39m \u001b[39m+\u001b[39m filename)\n\u001b[0;32m--> 114\u001b[0m latest_file \u001b[39m=\u001b[39m \u001b[39mmax\u001b[39;49m(full_path_downloaded_files, key\u001b[39m=\u001b[39;49mos\u001b[39m.\u001b[39;49mpath\u001b[39m.\u001b[39;49mgetctime)\n\u001b[1;32m    115\u001b[0m shutil\u001b[39m.\u001b[39mmove(\n\u001b[1;32m    116\u001b[0m     latest_file, os\u001b[39m.\u001b[39mpath\u001b[39m.\u001b[39mjoin(tmp_xls_files, \u001b[39mstr\u001b[39m(input_aera_index \u001b[39m+\u001b[39m \u001b[39m1\u001b[39m) \u001b[39m+\u001b[39m \u001b[39m\"\u001b[39m\u001b[39m.xls\u001b[39m\u001b[39m\"\u001b[39m)\n\u001b[1;32m    117\u001b[0m )\n",
      "\u001b[0;31mValueError\u001b[0m: max() arg is an empty sequence"
     ]
    }
   ],
   "source": [
    "query = \"ts = (('meta*analysis' or 'systematic review') and ('soil organic carbon' or 'SOC' or 'soil organic matter' or 'SOM' or 'soil carbon'))\"\n",
    "src.wrapper.run_pipeline(query, [\"WoS\"])"
   ]
  },
  {
   "cell_type": "markdown",
   "metadata": {},
   "source": [
    "<br/>\n",
    "\n",
    "**2. Web of Science scrapping** <br/>\n",
    "Scrape publications on Web of Science (Core Collection) with a specific search query. DOIs, titles, abstracts and keywords (when available) of each publication will be stored in a Pickle file `colibri/data/wos/<yyyy>-<mm>-<dd>_<hh>-<mm>-<ss>` with the corresponding timestamp of your scrapping."
   ]
  },
  {
   "cell_type": "code",
   "execution_count": null,
   "metadata": {},
   "outputs": [],
   "source": [
    "query = \"ts = (('meta*analysis' or 'systematic review') and ('soil organic carbon' or 'SOC' or 'soil organic matter' or 'SOM' or 'soil carbon'))\"\n",
    "src.scrapper.scrapper(query, [\"WoS\"])"
   ]
  }
 ],
 "metadata": {
  "kernelspec": {
   "display_name": "ds",
   "language": "python",
   "name": "python3"
  },
  "language_info": {
   "codemirror_mode": {
    "name": "ipython",
    "version": 3
   },
   "file_extension": ".py",
   "mimetype": "text/x-python",
   "name": "python",
   "nbconvert_exporter": "python",
   "pygments_lexer": "ipython3",
   "version": "3.10.4"
  },
  "orig_nbformat": 4
 },
 "nbformat": 4,
 "nbformat_minor": 2
}
