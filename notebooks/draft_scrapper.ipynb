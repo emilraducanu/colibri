{
 "cells": [
  {
   "cell_type": "code",
   "execution_count": null,
   "metadata": {},
   "outputs": [],
   "source": [
    "# If the request is blocked by Clavirate,\n",
    "# this code might be useful to change the user agent\n",
    "\n",
    "# from fake_useragent import UserAgent\n",
    "# ua = UserAgent()\n",
    "# headers = {'User-Agent': ua.random}\n",
    "# response = requests.get(url, headers=headers)"
   ]
  },
  {
   "cell_type": "code",
   "execution_count": null,
   "metadata": {},
   "outputs": [],
   "source": [
    "# Examples of WoS searching query\n",
    "\n",
    "\"ts = 'soil organic carbon'\"\n",
    "\"ts = (specific searching query)\" (between 4k and 5k results on the 3rd July 2023)\n",
    "\"ts = ('meta*analysis' (OR) 'systematic review') (AND) ('soil organic carbon' (OR) 'SOC' (OR) 'soil organic matter' (OR) 'SOM' (OR) 'soil carbon')\""
   ]
  },
  {
   "cell_type": "code",
   "execution_count": null,
   "metadata": {},
   "outputs": [],
   "source": [
    "import os\n",
    "import pandas as pd\n",
    "\n",
    "xls_files = (\n",
    "    \"/home/er/Documents/Cirad/SOCSciCompiler/data/papers_metadata/2023-7-3_11-24-45\"\n",
    ")\n",
    "\n",
    "data = []\n",
    "\n",
    "for filename in os.listdir(xls_files):\n",
    "    if filename.endswith(\".xls\"):\n",
    "        file_path = os.path.join(xls_files, filename)\n",
    "        df = pd.read_excel(file_path)\n",
    "        data.append(df)\n",
    "\n",
    "merged_df = pd.concat(data)\n",
    "\n",
    "pickle_file = \"2023-7-3_11-24-45_metadata.pkl\"\n",
    "merged_df.to_pickle(pickle_file)\n",
    "\n",
    "print(f\"Merged data saved to {pickle_file}\")"
   ]
  },
  {
   "cell_type": "code",
   "execution_count": null,
   "metadata": {},
   "outputs": [],
   "source": [
    "pickle_file = \"2023-7-3_11-24-45_metadata.pkl\"\n",
    "df = pd.read_pickle(pickle_file)\n",
    "\n",
    "attributes_to_keep = [\n",
    "    \"DOI\",\n",
    "    \"Article Title\",\n",
    "    \"Authors\",\n",
    "    \"Publication Year\",\n",
    "    \"Abstract\",\n",
    "    \"Author Keywords\",\n",
    "    \"Language\",\n",
    "    \"Affiliations\",\n",
    "    \"Source Title\",\n",
    "    \"Publisher\",\n",
    "    \"Volume\",\n",
    "    \"Issue\",\n",
    "]\n",
    "\n",
    "df = df[attributes_to_keep]\n",
    "print(\"\\nSummary Information:\")\n",
    "print(df.info())\n",
    "\n",
    "df = df.drop_duplicates()\n",
    "print(\"\\nSummary Information:\")\n",
    "print(df.info())\n",
    "\n",
    "df = df[df[\"DOI\"].duplicated(keep=False) == False]\n",
    "print(\"\\nSummary Information:\")\n",
    "print(df.info())\n",
    "\n",
    "df.to_pickle(\"2023-7-3_11-24-45_metadata.pkl\")"
   ]
  },
  {
   "cell_type": "code",
   "execution_count": 2,
   "metadata": {},
   "outputs": [
    {
     "name": "stderr",
     "output_type": "stream",
     "text": [
      "INFO:Sci-Hub:Failed to fetch pdf with identifier 10.1007/s10661-016-5663-y (resolved url None) due to request exception.\n",
      "INFO:Sci-Hub:Failed to fetch pdf with identifier 10.1002/2013JG002494 (resolved url None) due to request exception.\n",
      "INFO:Sci-Hub:Failed to fetch pdf with identifier 10.1139/X08-151 (resolved url None) due to request exception.\n",
      "INFO:Sci-Hub:Failed to fetch pdf with identifier 10.1016/S0883-2927(97)00048-6 (resolved url None) due to request exception.\n",
      "INFO:Sci-Hub:Failed to fetch pdf with identifier 10.1007/s10533-013-9908-3 (resolved url None) due to request exception.\n",
      "INFO:Sci-Hub:Failed to fetch pdf with identifier 10.1021/acssuschemeng.9b02150 (resolved url None) due to request exception.\n",
      "INFO:Sci-Hub:Failed to fetch pdf with identifier 10.1002/2016JG003370 (resolved url None) due to request exception.\n",
      "INFO:Sci-Hub:Failed to fetch pdf with identifier 10.1016/j.jconhyd.2018.11.011 (resolved url None) due to request exception.\n",
      "INFO:Sci-Hub:Failed to fetch pdf with identifier 10.5433/1679-0359.2017v38n4Supl1p2449 (resolved url None) due to request exception.\n",
      "INFO:Sci-Hub:Failed to fetch pdf with identifier 10.1175/2012EI000439.1 (resolved url None) due to request exception.\n",
      "INFO:Sci-Hub:Failed to fetch pdf with identifier 10.1016/j.chemgeo.2017.03.006 (resolved url None) due to request exception.\n",
      "INFO:Sci-Hub:Failed to fetch pdf with identifier 10.1021/acs.energyfuels.9b00680 (resolved url None) due to request exception.\n",
      "INFO:Sci-Hub:Failed to fetch pdf with identifier 10.1038/srep42102 (resolved url None) due to request exception.\n",
      "INFO:Sci-Hub:Failed to fetch pdf with identifier 10.1016/j.geoderma.2021.115638 (resolved url None) due to request exception.\n",
      "INFO:Sci-Hub:Failed to fetch pdf with identifier 10.3934/agrfood.2021010 (resolved url None) due to request exception.\n",
      "INFO:Sci-Hub:Failed to fetch pdf with identifier 10.28940/terra.v38i4.603 (resolved url None) due to request exception.\n",
      "INFO:Sci-Hub:Failed to fetch pdf with identifier 10.1016/j.catena.2012.03.005 (resolved url None) due to request exception.\n",
      "INFO:Sci-Hub:Failed to fetch pdf with identifier 10.2134/jeq2002.0752 (resolved url None) due to request exception.\n",
      "INFO:Sci-Hub:Failed to fetch pdf with identifier 10.1021/es0498742 (resolved url None) due to request exception.\n",
      "INFO:Sci-Hub:Failed to fetch pdf with identifier 10.1021/es015652h (resolved url None) due to request exception.\n"
     ]
    }
   ],
   "source": [
    "# API Sci-Hub (https://github.com/zaytoun/scihub.py/tree/master)\n",
    "\n",
    "from scihub import SciHub\n",
    "import pandas as pd\n",
    "\n",
    "sh = SciHub()\n",
    "pickle_file = \"2023-7-3_11-24-45_metadata.pkl\"\n",
    "df = pd.read_pickle(pickle_file)\n",
    "dois = df[\"DOI\"][:20]\n",
    "\n",
    "for doi, i in zip(dois, range(len(dois))):\n",
    "    sh.download(\n",
    "        str(doi), path=f\"/home/er/Documents/Cirad/SOCSciCompiler/data/test_pdf_{i}.pdf\"\n",
    "    )"
   ]
  },
  {
   "cell_type": "code",
   "execution_count": 1,
   "metadata": {},
   "outputs": [
    {
     "name": "stdout",
     "output_type": "stream",
     "text": [
      "['https://sci-hub.se/']\n"
     ]
    }
   ],
   "source": [
    "from scihub import SciHub\n",
    "\n",
    "sh = SciHub()\n",
    "print(SciHub._get_available_scihub_urls(sh))"
   ]
  }
 ],
 "metadata": {
  "kernelspec": {
   "display_name": "ds",
   "language": "python",
   "name": "python3"
  },
  "language_info": {
   "codemirror_mode": {
    "name": "ipython",
    "version": 3
   },
   "file_extension": ".py",
   "mimetype": "text/x-python",
   "name": "python",
   "nbconvert_exporter": "python",
   "pygments_lexer": "ipython3",
   "version": "3.10.4"
  },
  "orig_nbformat": 4
 },
 "nbformat": 4,
 "nbformat_minor": 2
}
