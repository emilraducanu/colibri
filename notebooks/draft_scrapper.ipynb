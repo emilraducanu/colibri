{
 "cells": [
  {
   "cell_type": "code",
   "execution_count": null,
   "metadata": {},
   "outputs": [],
   "source": [
    "# If the request is blocked by Clavirate,\n",
    "# this code might be useful to change the user agent\n",
    "\n",
    "# from fake_useragent import UserAgent\n",
    "# ua = UserAgent()\n",
    "# headers = {'User-Agent': ua.random}\n",
    "# response = requests.get(url, headers=headers)"
   ]
  },
  {
   "cell_type": "code",
   "execution_count": null,
   "metadata": {},
   "outputs": [],
   "source": [
    "# Examples of WoS searching query\n",
    "\n",
    "# \"ts = 'soil organic carbon'\"\n",
    "# \"ts = (specific searching query)\" (between 4k and 5k results on the 3rd July 2023)\n",
    "# \"ts = (('meta*analysis' or 'systematic review') and ('soil organic carbon' or 'SOC' or 'soil organic matter' or 'SOM' or 'soil carbon'))\""
   ]
  },
  {
   "cell_type": "code",
   "execution_count": null,
   "metadata": {},
   "outputs": [],
   "source": [
    "# Free proxy library\n",
    "\n",
    "# https://pypi.org/project/free-proxy/"
   ]
  },
  {
   "cell_type": "code",
   "execution_count": null,
   "metadata": {},
   "outputs": [],
   "source": [
    "# Google Scholar scrapping\n",
    "\n",
    "# https://github.com/dimitryzub/scrape-google-scholar-py/blob/main/google_scholar_py/serpapi_backend/organic_results.py\n",
    "# https://serpapi.com/google-scholar-organic-results (no abstract/keyword only references + snippet)\n",
    "# https://harzing.com/resources/publish-or-perish (no abstract/keyword only references)\n",
    "# https://github.com/fabiobatalha/crossrefapi (no abstract/keyword only references)"
   ]
  },
  {
   "cell_type": "code",
   "execution_count": null,
   "metadata": {},
   "outputs": [],
   "source": [
    "# API Sci-Hub (https://github.com/zaytoun/scihub.py/tree/master)\n",
    "\n",
    "from scihub import SciHub\n",
    "import pandas as pd\n",
    "\n",
    "sh = SciHub()\n",
    "pickle_file = \"2023-7-3_11-24-45_metadata.pkl\"\n",
    "df = pd.read_pickle(pickle_file)\n",
    "dois = df[\"DOI\"][:20]\n",
    "\n",
    "for doi, i in zip(dois, range(len(dois))):\n",
    "    sh.download(\n",
    "        str(doi), path=f\"/home/er/Documents/Cirad/SOCSciCompiler/data/test_pdf_{i}.pdf\"\n",
    "    )"
   ]
  },
  {
   "cell_type": "code",
   "execution_count": null,
   "metadata": {},
   "outputs": [],
   "source": [
    "import sys\n",
    "sys.path.append('..')\n",
    "from src.scrapper.scihub import SciHub\n",
    "\n",
    "sh = SciHub()\n",
    "print(SciHub._get_available_scihub_urls(sh))"
   ]
  },
  {
   "cell_type": "code",
   "execution_count": null,
   "metadata": {},
   "outputs": [],
   "source": [
    "import sys\n",
    "sys.path.append('..')\n",
    "from src.scrapper.scrapper import get_metadata_wos\n",
    "\n",
    "get_metadata_wos(\"ts = (('meta*analysis' or 'systematic review') and ('soil organic carbon' or 'SOC' or 'soil organic matter' or 'SOM' or 'soil carbon'))\")"
   ]
  }
 ],
 "metadata": {
  "kernelspec": {
   "display_name": "ds",
   "language": "python",
   "name": "python3"
  },
  "language_info": {
   "codemirror_mode": {
    "name": "ipython",
    "version": 3
   },
   "file_extension": ".py",
   "mimetype": "text/x-python",
   "name": "python",
   "nbconvert_exporter": "python",
   "pygments_lexer": "ipython3",
   "version": "3.10.4"
  },
  "orig_nbformat": 4
 },
 "nbformat": 4,
 "nbformat_minor": 2
}
