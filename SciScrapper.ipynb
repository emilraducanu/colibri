{
 "cells": [
  {
   "cell_type": "code",
   "execution_count": null,
   "metadata": {},
   "outputs": [],
   "source": [
    "# Scrapping WOS v.1\n",
    "\n",
    "from wos import WosClient\n",
    "import wos.utils\n",
    "\n",
    "with WosClient('emil.raducanu@cirad.fr', 'P9%8M$VPn$%ZmD#6PPYUG*EyRq*ThmZvW9zq6^Q57pRvFyD9dkUZ^M5rZiYz7bie96uCF@2&pr^PdgJC#LPHfc%ptoUk@@') as client:\n",
    "    print(wos.utils.query(client, 'AU=Knuth Donald'))"
   ]
  },
  {
   "cell_type": "code",
   "execution_count": null,
   "metadata": {},
   "outputs": [],
   "source": [
    "# Scrapping WOS v.2\n",
    "\n",
    "import time\n",
    "import clarivate.wos_starter.client\n",
    "from pprint import pprint\n",
    "from clarivate.wos_starter.client.apis.tags import documents_api\n",
    "from clarivate.wos_starter.client.model.document import Document\n",
    "from clarivate.wos_starter.client.model.documents_list import DocumentsList"
   ]
  },
  {
   "cell_type": "code",
   "execution_count": null,
   "metadata": {},
   "outputs": [],
   "source": [
    "# Scrapping Sci-Hub\n",
    "\n",
    "from scihub import SciHub\n",
    "\n",
    "sh = SciHub()\n",
    "\n",
    "# exactly the same thing as fetch except downloads the articles to disk\n",
    "# if no path given, a unique name will be used as the file name\n",
    "result = sh.download('https://onlinelibrary.wiley.com/doi/full/10.1111/gcb.12569', path='paper.pdf')"
   ]
  }
 ],
 "metadata": {
  "kernelspec": {
   "display_name": "ds",
   "language": "python",
   "name": "python3"
  },
  "language_info": {
   "codemirror_mode": {
    "name": "ipython",
    "version": 3
   },
   "file_extension": ".py",
   "mimetype": "text/x-python",
   "name": "python",
   "nbconvert_exporter": "python",
   "pygments_lexer": "ipython3",
   "version": "3.10.4"
  },
  "orig_nbformat": 4
 },
 "nbformat": 4,
 "nbformat_minor": 2
}
