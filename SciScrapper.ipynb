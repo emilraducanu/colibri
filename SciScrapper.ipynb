{
 "cells": [
  {
   "cell_type": "code",
   "execution_count": 3,
   "metadata": {},
   "outputs": [
    {
     "name": "stderr",
     "output_type": "stream",
     "text": [
      "<?xml version=\"1.0\" encoding=\"UTF-8\"?>\n",
      "<SOAP-ENV:Envelope xmlns:SOAP-ENV=\"http://schemas.xmlsoap.org/soap/envelope/\" xmlns:xsi=\"http://www.w3.org/2001/XMLSchema-instance\" xmlns:ns0=\"http://schemas.xmlsoap.org/soap/envelope/\" xmlns:ns1=\"http://woksearch.v3.wokmws.thomsonreuters.com\">\n",
      "   <SOAP-ENV:Header/>\n",
      "   <ns0:Body>\n",
      "      <ns1:search>\n",
      "         <queryParameters>\n",
      "            <databaseId>WOS</databaseId>\n",
      "            <userQuery>AU=Knuth Donald</userQuery>\n",
      "            <queryLanguage>en</queryLanguage>\n",
      "         </queryParameters>\n",
      "         <retrieveParameters>\n",
      "            <firstRecord>1</firstRecord>\n",
      "            <count>5</count>\n",
      "            <sortField>\n",
      "               <name>RS</name>\n",
      "               <sort>D</sort>\n",
      "            </sortField>\n",
      "         </retrieveParameters>\n",
      "      </ns1:search>\n",
      "   </ns0:Body>\n",
      "</SOAP-ENV:Envelope>\n",
      "<?xml version=\"1.0\" encoding=\"UTF-8\"?>\n",
      "<SOAP-ENV:Envelope xmlns:SOAP-ENV=\"http://schemas.xmlsoap.org/soap/envelope/\" xmlns:xsi=\"http://www.w3.org/2001/XMLSchema-instance\" xmlns:ns0=\"http://schemas.xmlsoap.org/soap/envelope/\" xmlns:ns1=\"http://auth.cxf.wokmws.thomsonreuters.com\">\n",
      "   <SOAP-ENV:Header/>\n",
      "   <ns0:Body>\n",
      "      <ns1:closeSession/>\n",
      "   </ns0:Body>\n",
      "</SOAP-ENV:Envelope>\n"
     ]
    },
    {
     "ename": "WebFault",
     "evalue": "b\"Server raised fault: 'Session not found: SID=f312e2fe4d304f467ec3bd7d2af46ea75c5817d7'\"",
     "output_type": "error",
     "traceback": [
      "\u001b[0;31m---------------------------------------------------------------------------\u001b[0m",
      "\u001b[0;31mHTTPError\u001b[0m                                 Traceback (most recent call last)",
      "File \u001b[0;32m~/anaconda3/envs/ds/lib/python3.10/site-packages/suds/transport/http.py:78\u001b[0m, in \u001b[0;36mHttpTransport.send\u001b[0;34m(self, request)\u001b[0m\n\u001b[1;32m     77\u001b[0m log\u001b[39m.\u001b[39mdebug(\u001b[39m'\u001b[39m\u001b[39msending:\u001b[39m\u001b[39m\\n\u001b[39;00m\u001b[39m%s\u001b[39;00m\u001b[39m'\u001b[39m, request)\n\u001b[0;32m---> 78\u001b[0m fp \u001b[39m=\u001b[39m \u001b[39mself\u001b[39;49m\u001b[39m.\u001b[39;49mu2open(u2request)\n\u001b[1;32m     79\u001b[0m \u001b[39mself\u001b[39m\u001b[39m.\u001b[39mgetcookies(fp, u2request)\n",
      "File \u001b[0;32m~/anaconda3/envs/ds/lib/python3.10/site-packages/suds/transport/http.py:119\u001b[0m, in \u001b[0;36mHttpTransport.u2open\u001b[0;34m(self, u2request)\u001b[0m\n\u001b[1;32m    118\u001b[0m \u001b[39melse\u001b[39;00m:\n\u001b[0;32m--> 119\u001b[0m     \u001b[39mreturn\u001b[39;00m url\u001b[39m.\u001b[39;49mopen(u2request, timeout\u001b[39m=\u001b[39;49mtm)\n",
      "File \u001b[0;32m~/anaconda3/envs/ds/lib/python3.10/urllib/request.py:525\u001b[0m, in \u001b[0;36mOpenerDirector.open\u001b[0;34m(self, fullurl, data, timeout)\u001b[0m\n\u001b[1;32m    524\u001b[0m     meth \u001b[39m=\u001b[39m \u001b[39mgetattr\u001b[39m(processor, meth_name)\n\u001b[0;32m--> 525\u001b[0m     response \u001b[39m=\u001b[39m meth(req, response)\n\u001b[1;32m    527\u001b[0m \u001b[39mreturn\u001b[39;00m response\n",
      "File \u001b[0;32m~/anaconda3/envs/ds/lib/python3.10/urllib/request.py:634\u001b[0m, in \u001b[0;36mHTTPErrorProcessor.http_response\u001b[0;34m(self, request, response)\u001b[0m\n\u001b[1;32m    633\u001b[0m \u001b[39mif\u001b[39;00m \u001b[39mnot\u001b[39;00m (\u001b[39m200\u001b[39m \u001b[39m<\u001b[39m\u001b[39m=\u001b[39m code \u001b[39m<\u001b[39m \u001b[39m300\u001b[39m):\n\u001b[0;32m--> 634\u001b[0m     response \u001b[39m=\u001b[39m \u001b[39mself\u001b[39;49m\u001b[39m.\u001b[39;49mparent\u001b[39m.\u001b[39;49merror(\n\u001b[1;32m    635\u001b[0m         \u001b[39m'\u001b[39;49m\u001b[39mhttp\u001b[39;49m\u001b[39m'\u001b[39;49m, request, response, code, msg, hdrs)\n\u001b[1;32m    637\u001b[0m \u001b[39mreturn\u001b[39;00m response\n",
      "File \u001b[0;32m~/anaconda3/envs/ds/lib/python3.10/urllib/request.py:563\u001b[0m, in \u001b[0;36mOpenerDirector.error\u001b[0;34m(self, proto, *args)\u001b[0m\n\u001b[1;32m    562\u001b[0m args \u001b[39m=\u001b[39m (\u001b[39mdict\u001b[39m, \u001b[39m'\u001b[39m\u001b[39mdefault\u001b[39m\u001b[39m'\u001b[39m, \u001b[39m'\u001b[39m\u001b[39mhttp_error_default\u001b[39m\u001b[39m'\u001b[39m) \u001b[39m+\u001b[39m orig_args\n\u001b[0;32m--> 563\u001b[0m \u001b[39mreturn\u001b[39;00m \u001b[39mself\u001b[39;49m\u001b[39m.\u001b[39;49m_call_chain(\u001b[39m*\u001b[39;49margs)\n",
      "File \u001b[0;32m~/anaconda3/envs/ds/lib/python3.10/urllib/request.py:496\u001b[0m, in \u001b[0;36mOpenerDirector._call_chain\u001b[0;34m(self, chain, kind, meth_name, *args)\u001b[0m\n\u001b[1;32m    495\u001b[0m func \u001b[39m=\u001b[39m \u001b[39mgetattr\u001b[39m(handler, meth_name)\n\u001b[0;32m--> 496\u001b[0m result \u001b[39m=\u001b[39m func(\u001b[39m*\u001b[39;49margs)\n\u001b[1;32m    497\u001b[0m \u001b[39mif\u001b[39;00m result \u001b[39mis\u001b[39;00m \u001b[39mnot\u001b[39;00m \u001b[39mNone\u001b[39;00m:\n",
      "File \u001b[0;32m~/anaconda3/envs/ds/lib/python3.10/urllib/request.py:643\u001b[0m, in \u001b[0;36mHTTPDefaultErrorHandler.http_error_default\u001b[0;34m(self, req, fp, code, msg, hdrs)\u001b[0m\n\u001b[1;32m    642\u001b[0m \u001b[39mdef\u001b[39;00m \u001b[39mhttp_error_default\u001b[39m(\u001b[39mself\u001b[39m, req, fp, code, msg, hdrs):\n\u001b[0;32m--> 643\u001b[0m     \u001b[39mraise\u001b[39;00m HTTPError(req\u001b[39m.\u001b[39mfull_url, code, msg, hdrs, fp)\n",
      "\u001b[0;31mHTTPError\u001b[0m: HTTP Error 500: Internal Server Error",
      "\nDuring handling of the above exception, another exception occurred:\n",
      "\u001b[0;31mTransportError\u001b[0m                            Traceback (most recent call last)",
      "File \u001b[0;32m~/anaconda3/envs/ds/lib/python3.10/site-packages/suds/client.py:652\u001b[0m, in \u001b[0;36mSoapClient.send\u001b[0;34m(self, soapenv)\u001b[0m\n\u001b[1;32m    651\u001b[0m request\u001b[39m.\u001b[39mheaders \u001b[39m=\u001b[39m \u001b[39mself\u001b[39m\u001b[39m.\u001b[39mheaders()\n\u001b[0;32m--> 652\u001b[0m reply \u001b[39m=\u001b[39m transport\u001b[39m.\u001b[39;49msend(request)\n\u001b[1;32m    653\u001b[0m ctx \u001b[39m=\u001b[39m plugins\u001b[39m.\u001b[39mmessage\u001b[39m.\u001b[39mreceived(reply\u001b[39m=\u001b[39mreply\u001b[39m.\u001b[39mmessage)\n",
      "File \u001b[0;32m~/anaconda3/envs/ds/lib/python3.10/site-packages/suds/transport/http.py:178\u001b[0m, in \u001b[0;36mHttpAuthenticated.send\u001b[0;34m(self, request)\u001b[0m\n\u001b[1;32m    177\u001b[0m \u001b[39mself\u001b[39m\u001b[39m.\u001b[39maddcredentials(request)\n\u001b[0;32m--> 178\u001b[0m \u001b[39mreturn\u001b[39;00m HttpTransport\u001b[39m.\u001b[39;49msend(\u001b[39mself\u001b[39;49m, request)\n",
      "File \u001b[0;32m~/anaconda3/envs/ds/lib/python3.10/site-packages/suds/transport/http.py:86\u001b[0m, in \u001b[0;36mHttpTransport.send\u001b[0;34m(self, request)\u001b[0m\n\u001b[1;32m     85\u001b[0m     \u001b[39melse\u001b[39;00m:\n\u001b[0;32m---> 86\u001b[0m         \u001b[39mraise\u001b[39;00m TransportError(e\u001b[39m.\u001b[39mmsg, e\u001b[39m.\u001b[39mcode, e\u001b[39m.\u001b[39mfp)\n\u001b[1;32m     87\u001b[0m \u001b[39mreturn\u001b[39;00m result\n",
      "\u001b[0;31mTransportError\u001b[0m: Internal Server Error",
      "\nDuring handling of the above exception, another exception occurred:\n",
      "\u001b[0;31mWebFault\u001b[0m                                  Traceback (most recent call last)",
      "Cell \u001b[0;32mIn[3], line 7\u001b[0m\n\u001b[1;32m      6\u001b[0m \u001b[39mwith\u001b[39;00m WosClient(SID\u001b[39m=\u001b[39m\u001b[39m'\u001b[39m\u001b[39mf312e2fe4d304f467ec3bd7d2af46ea75c5817d7\u001b[39m\u001b[39m'\u001b[39m) \u001b[39mas\u001b[39;00m client:\n\u001b[0;32m----> 7\u001b[0m     \u001b[39mprint\u001b[39m(wos\u001b[39m.\u001b[39;49mutils\u001b[39m.\u001b[39;49mquery(client, \u001b[39m'\u001b[39;49m\u001b[39mAU=Knuth Donald\u001b[39;49m\u001b[39m'\u001b[39;49m))\n",
      "File \u001b[0;32m~/anaconda3/envs/ds/lib/python3.10/site-packages/wos/utils.py:37\u001b[0m, in \u001b[0;36mquery\u001b[0;34m(wosclient, wos_query, xml_query, count, offset, limit)\u001b[0m\n\u001b[1;32m     36\u001b[0m \u001b[39m\"\"\"Query Web of Science and XML query results with multiple requests.\"\"\"\u001b[39;00m\n\u001b[0;32m---> 37\u001b[0m results \u001b[39m=\u001b[39m [single(wosclient, wos_query, xml_query, \u001b[39mmin\u001b[39m(limit, count\u001b[39m-\u001b[39mx\u001b[39m+\u001b[39m\u001b[39m1\u001b[39m), x)\n\u001b[1;32m     38\u001b[0m            \u001b[39mfor\u001b[39;00m x \u001b[39min\u001b[39;00m \u001b[39mrange\u001b[39m(offset, count\u001b[39m+\u001b[39m\u001b[39m1\u001b[39m, limit)]\n\u001b[1;32m     39\u001b[0m \u001b[39mif\u001b[39;00m xml_query:\n",
      "File \u001b[0;32m~/anaconda3/envs/ds/lib/python3.10/site-packages/wos/utils.py:37\u001b[0m, in \u001b[0;36m<listcomp>\u001b[0;34m(.0)\u001b[0m\n\u001b[1;32m     36\u001b[0m \u001b[39m\"\"\"Query Web of Science and XML query results with multiple requests.\"\"\"\u001b[39;00m\n\u001b[0;32m---> 37\u001b[0m results \u001b[39m=\u001b[39m [single(wosclient, wos_query, xml_query, \u001b[39mmin\u001b[39;49m(limit, count\u001b[39m-\u001b[39;49mx\u001b[39m+\u001b[39;49m\u001b[39m1\u001b[39;49m), x)\n\u001b[1;32m     38\u001b[0m            \u001b[39mfor\u001b[39;00m x \u001b[39min\u001b[39;00m \u001b[39mrange\u001b[39m(offset, count\u001b[39m+\u001b[39m\u001b[39m1\u001b[39m, limit)]\n\u001b[1;32m     39\u001b[0m \u001b[39mif\u001b[39;00m xml_query:\n",
      "File \u001b[0;32m~/anaconda3/envs/ds/lib/python3.10/site-packages/wos/utils.py:27\u001b[0m, in \u001b[0;36msingle\u001b[0;34m(wosclient, wos_query, xml_query, count, offset)\u001b[0m\n\u001b[1;32m     26\u001b[0m \u001b[39m\"\"\"Perform a single Web of Science query and then XML query the results.\"\"\"\u001b[39;00m\n\u001b[0;32m---> 27\u001b[0m records \u001b[39m=\u001b[39m _get_records(wosclient, wos_query, count, offset)\n\u001b[1;32m     28\u001b[0m xml \u001b[39m=\u001b[39m _re\u001b[39m.\u001b[39msub(\u001b[39m'\u001b[39m\u001b[39m xmlns=\u001b[39m\u001b[39m\"\u001b[39m\u001b[39m[^\u001b[39m\u001b[39m\"\u001b[39m\u001b[39m]+\u001b[39m\u001b[39m\"\u001b[39m\u001b[39m'\u001b[39m, \u001b[39m'\u001b[39m\u001b[39m'\u001b[39m, records, count\u001b[39m=\u001b[39m\u001b[39m1\u001b[39m)\u001b[39m.\u001b[39mencode(\u001b[39m'\u001b[39m\u001b[39mutf-8\u001b[39m\u001b[39m'\u001b[39m)\n",
      "File \u001b[0;32m~/anaconda3/envs/ds/lib/python3.10/site-packages/wos/utils.py:17\u001b[0m, in \u001b[0;36m_get_records\u001b[0;34m(wosclient, wos_query, count, offset)\u001b[0m\n\u001b[1;32m     16\u001b[0m \u001b[39melse\u001b[39;00m:\n\u001b[0;32m---> 17\u001b[0m     \u001b[39mreturn\u001b[39;00m wosclient\u001b[39m.\u001b[39;49msearch(wos_query, count, offset)\u001b[39m.\u001b[39mrecords\n",
      "File \u001b[0;32m~/anaconda3/envs/ds/lib/python3.10/site-packages/wos/client.py:72\u001b[0m, in \u001b[0;36mWosClient._api.<locals>._fn\u001b[0;34m(self, *args, **kwargs)\u001b[0m\n\u001b[1;32m     71\u001b[0m     \u001b[39mraise\u001b[39;00m \u001b[39mRuntimeError\u001b[39;00m(\u001b[39m'\u001b[39m\u001b[39mSession closed. Invoke connect() before.\u001b[39m\u001b[39m'\u001b[39m)\n\u001b[0;32m---> 72\u001b[0m resp \u001b[39m=\u001b[39m fn(\u001b[39mself\u001b[39;49m, \u001b[39m*\u001b[39;49margs, \u001b[39m*\u001b[39;49m\u001b[39m*\u001b[39;49mkwargs)\n\u001b[1;32m     73\u001b[0m \u001b[39mreturn\u001b[39;00m (\u001b[39mself\u001b[39m\u001b[39m.\u001b[39m_search\u001b[39m.\u001b[39mlast_received()\u001b[39m.\u001b[39mstr() \u001b[39mif\u001b[39;00m \u001b[39mself\u001b[39m\u001b[39m.\u001b[39mis_lite()\n\u001b[1;32m     74\u001b[0m         \u001b[39melse\u001b[39;00m resp)\n",
      "File \u001b[0;32m~/anaconda3/envs/ds/lib/python3.10/site-packages/wos/client.py:184\u001b[0m, in \u001b[0;36mWosClient.search\u001b[0;34m(self, query, count, offset, editions, symbolicTimeSpan, timeSpan, retrieveParameters)\u001b[0m\n\u001b[1;32m    183\u001b[0m query \u001b[39m=\u001b[39m query\u001b[39m.\u001b[39mdecode(\u001b[39m'\u001b[39m\u001b[39mutf-8\u001b[39m\u001b[39m'\u001b[39m) \u001b[39mif\u001b[39;00m _version_info[\u001b[39m0\u001b[39m] \u001b[39m<\u001b[39m \u001b[39m3\u001b[39m \u001b[39melse\u001b[39;00m query\n\u001b[0;32m--> 184\u001b[0m \u001b[39mreturn\u001b[39;00m \u001b[39mself\u001b[39;49m\u001b[39m.\u001b[39;49m_search\u001b[39m.\u001b[39;49mservice\u001b[39m.\u001b[39;49msearch(\n\u001b[1;32m    185\u001b[0m     queryParameters\u001b[39m=\u001b[39;49m_OrderedDict([\n\u001b[1;32m    186\u001b[0m         (\u001b[39m'\u001b[39;49m\u001b[39mdatabaseId\u001b[39;49m\u001b[39m'\u001b[39;49m, \u001b[39m'\u001b[39;49m\u001b[39mWOS\u001b[39;49m\u001b[39m'\u001b[39;49m),\n\u001b[1;32m    187\u001b[0m         (\u001b[39m'\u001b[39;49m\u001b[39muserQuery\u001b[39;49m\u001b[39m'\u001b[39;49m, query),\n\u001b[1;32m    188\u001b[0m         (\u001b[39m'\u001b[39;49m\u001b[39meditions\u001b[39;49m\u001b[39m'\u001b[39;49m, editions),\n\u001b[1;32m    189\u001b[0m         (\u001b[39m'\u001b[39;49m\u001b[39msymbolicTimeSpan\u001b[39;49m\u001b[39m'\u001b[39;49m, symbolicTimeSpan),\n\u001b[1;32m    190\u001b[0m         (\u001b[39m'\u001b[39;49m\u001b[39mtimeSpan\u001b[39;49m\u001b[39m'\u001b[39;49m, timeSpan),\n\u001b[1;32m    191\u001b[0m         (\u001b[39m'\u001b[39;49m\u001b[39mqueryLanguage\u001b[39;49m\u001b[39m'\u001b[39;49m, \u001b[39m'\u001b[39;49m\u001b[39men\u001b[39;49m\u001b[39m'\u001b[39;49m)\n\u001b[1;32m    192\u001b[0m     ]),\n\u001b[1;32m    193\u001b[0m     retrieveParameters\u001b[39m=\u001b[39;49m(retrieveParameters \u001b[39mor\u001b[39;49;00m\n\u001b[1;32m    194\u001b[0m                         \u001b[39mself\u001b[39;49m\u001b[39m.\u001b[39;49mmake_retrieveParameters(offset, count))\n\u001b[1;32m    195\u001b[0m )\n",
      "File \u001b[0;32m~/anaconda3/envs/ds/lib/python3.10/site-packages/suds/client.py:559\u001b[0m, in \u001b[0;36mMethod.__call__\u001b[0;34m(self, *args, **kwargs)\u001b[0m\n\u001b[1;32m    558\u001b[0m \u001b[39melse\u001b[39;00m:\n\u001b[0;32m--> 559\u001b[0m     \u001b[39mreturn\u001b[39;00m client\u001b[39m.\u001b[39;49minvoke(args, kwargs)\n",
      "File \u001b[0;32m~/anaconda3/envs/ds/lib/python3.10/site-packages/suds/client.py:618\u001b[0m, in \u001b[0;36mSoapClient.invoke\u001b[0;34m(self, args, kwargs)\u001b[0m\n\u001b[1;32m    617\u001b[0m timer\u001b[39m.\u001b[39mstart()\n\u001b[0;32m--> 618\u001b[0m result \u001b[39m=\u001b[39m \u001b[39mself\u001b[39;49m\u001b[39m.\u001b[39;49msend(soapenv)\n\u001b[1;32m    619\u001b[0m timer\u001b[39m.\u001b[39mstop()\n",
      "File \u001b[0;32m~/anaconda3/envs/ds/lib/python3.10/site-packages/suds/client.py:664\u001b[0m, in \u001b[0;36mSoapClient.send\u001b[0;34m(self, soapenv)\u001b[0m\n\u001b[1;32m    663\u001b[0m         log\u001b[39m.\u001b[39merror(\u001b[39mself\u001b[39m\u001b[39m.\u001b[39mlast_sent())\n\u001b[0;32m--> 664\u001b[0m         result \u001b[39m=\u001b[39m \u001b[39mself\u001b[39;49m\u001b[39m.\u001b[39;49mfailed(binding, e)\n\u001b[1;32m    665\u001b[0m \u001b[39mreturn\u001b[39;00m result\n",
      "File \u001b[0;32m~/anaconda3/envs/ds/lib/python3.10/site-packages/suds/client.py:720\u001b[0m, in \u001b[0;36mSoapClient.failed\u001b[0;34m(self, binding, error)\u001b[0m\n\u001b[1;32m    719\u001b[0m \u001b[39mif\u001b[39;00m \u001b[39mlen\u001b[39m(reply) \u001b[39m>\u001b[39m \u001b[39m0\u001b[39m:\n\u001b[0;32m--> 720\u001b[0m     r, p \u001b[39m=\u001b[39m binding\u001b[39m.\u001b[39;49mget_fault(reply)\n\u001b[1;32m    721\u001b[0m     \u001b[39mself\u001b[39m\u001b[39m.\u001b[39mlast_received(r)\n",
      "File \u001b[0;32m~/anaconda3/envs/ds/lib/python3.10/site-packages/suds/bindings/binding.py:267\u001b[0m, in \u001b[0;36mBinding.get_fault\u001b[0;34m(self, reply)\u001b[0m\n\u001b[1;32m    266\u001b[0m \u001b[39mif\u001b[39;00m \u001b[39mself\u001b[39m\u001b[39m.\u001b[39moptions()\u001b[39m.\u001b[39mfaults:\n\u001b[0;32m--> 267\u001b[0m     \u001b[39mraise\u001b[39;00m WebFault(p, faultroot)\n\u001b[1;32m    268\u001b[0m \u001b[39mreturn\u001b[39;00m (faultroot, p\u001b[39m.\u001b[39mdetail)\n",
      "\u001b[0;31mWebFault\u001b[0m: b\"Server raised fault: '(SEE0003) There is a problem with your session identifier (SID). Reason: Error received from a server supporting the Web service. Cause: Supporting server error message = [Session not found: SID=f312e2fe4d304f467ec3bd7d2af46ea75c5817d7]. Supporting server error code = [Server.sessionNotFound]. Remedy: If the session identifier is expired or invalid, get a new session identifier and submit your request again. If the session identifier is missing correct your SOAP client. Otherwise call customer support.'\"",
      "\nDuring handling of the above exception, another exception occurred:\n",
      "\u001b[0;31mHTTPError\u001b[0m                                 Traceback (most recent call last)",
      "File \u001b[0;32m~/anaconda3/envs/ds/lib/python3.10/site-packages/suds/transport/http.py:78\u001b[0m, in \u001b[0;36mHttpTransport.send\u001b[0;34m(self, request)\u001b[0m\n\u001b[1;32m     77\u001b[0m log\u001b[39m.\u001b[39mdebug(\u001b[39m'\u001b[39m\u001b[39msending:\u001b[39m\u001b[39m\\n\u001b[39;00m\u001b[39m%s\u001b[39;00m\u001b[39m'\u001b[39m, request)\n\u001b[0;32m---> 78\u001b[0m fp \u001b[39m=\u001b[39m \u001b[39mself\u001b[39;49m\u001b[39m.\u001b[39;49mu2open(u2request)\n\u001b[1;32m     79\u001b[0m \u001b[39mself\u001b[39m\u001b[39m.\u001b[39mgetcookies(fp, u2request)\n",
      "File \u001b[0;32m~/anaconda3/envs/ds/lib/python3.10/site-packages/suds/transport/http.py:119\u001b[0m, in \u001b[0;36mHttpTransport.u2open\u001b[0;34m(self, u2request)\u001b[0m\n\u001b[1;32m    118\u001b[0m \u001b[39melse\u001b[39;00m:\n\u001b[0;32m--> 119\u001b[0m     \u001b[39mreturn\u001b[39;00m url\u001b[39m.\u001b[39;49mopen(u2request, timeout\u001b[39m=\u001b[39;49mtm)\n",
      "File \u001b[0;32m~/anaconda3/envs/ds/lib/python3.10/urllib/request.py:525\u001b[0m, in \u001b[0;36mOpenerDirector.open\u001b[0;34m(self, fullurl, data, timeout)\u001b[0m\n\u001b[1;32m    524\u001b[0m     meth \u001b[39m=\u001b[39m \u001b[39mgetattr\u001b[39m(processor, meth_name)\n\u001b[0;32m--> 525\u001b[0m     response \u001b[39m=\u001b[39m meth(req, response)\n\u001b[1;32m    527\u001b[0m \u001b[39mreturn\u001b[39;00m response\n",
      "File \u001b[0;32m~/anaconda3/envs/ds/lib/python3.10/urllib/request.py:634\u001b[0m, in \u001b[0;36mHTTPErrorProcessor.http_response\u001b[0;34m(self, request, response)\u001b[0m\n\u001b[1;32m    633\u001b[0m \u001b[39mif\u001b[39;00m \u001b[39mnot\u001b[39;00m (\u001b[39m200\u001b[39m \u001b[39m<\u001b[39m\u001b[39m=\u001b[39m code \u001b[39m<\u001b[39m \u001b[39m300\u001b[39m):\n\u001b[0;32m--> 634\u001b[0m     response \u001b[39m=\u001b[39m \u001b[39mself\u001b[39;49m\u001b[39m.\u001b[39;49mparent\u001b[39m.\u001b[39;49merror(\n\u001b[1;32m    635\u001b[0m         \u001b[39m'\u001b[39;49m\u001b[39mhttp\u001b[39;49m\u001b[39m'\u001b[39;49m, request, response, code, msg, hdrs)\n\u001b[1;32m    637\u001b[0m \u001b[39mreturn\u001b[39;00m response\n",
      "File \u001b[0;32m~/anaconda3/envs/ds/lib/python3.10/urllib/request.py:563\u001b[0m, in \u001b[0;36mOpenerDirector.error\u001b[0;34m(self, proto, *args)\u001b[0m\n\u001b[1;32m    562\u001b[0m args \u001b[39m=\u001b[39m (\u001b[39mdict\u001b[39m, \u001b[39m'\u001b[39m\u001b[39mdefault\u001b[39m\u001b[39m'\u001b[39m, \u001b[39m'\u001b[39m\u001b[39mhttp_error_default\u001b[39m\u001b[39m'\u001b[39m) \u001b[39m+\u001b[39m orig_args\n\u001b[0;32m--> 563\u001b[0m \u001b[39mreturn\u001b[39;00m \u001b[39mself\u001b[39;49m\u001b[39m.\u001b[39;49m_call_chain(\u001b[39m*\u001b[39;49margs)\n",
      "File \u001b[0;32m~/anaconda3/envs/ds/lib/python3.10/urllib/request.py:496\u001b[0m, in \u001b[0;36mOpenerDirector._call_chain\u001b[0;34m(self, chain, kind, meth_name, *args)\u001b[0m\n\u001b[1;32m    495\u001b[0m func \u001b[39m=\u001b[39m \u001b[39mgetattr\u001b[39m(handler, meth_name)\n\u001b[0;32m--> 496\u001b[0m result \u001b[39m=\u001b[39m func(\u001b[39m*\u001b[39;49margs)\n\u001b[1;32m    497\u001b[0m \u001b[39mif\u001b[39;00m result \u001b[39mis\u001b[39;00m \u001b[39mnot\u001b[39;00m \u001b[39mNone\u001b[39;00m:\n",
      "File \u001b[0;32m~/anaconda3/envs/ds/lib/python3.10/urllib/request.py:643\u001b[0m, in \u001b[0;36mHTTPDefaultErrorHandler.http_error_default\u001b[0;34m(self, req, fp, code, msg, hdrs)\u001b[0m\n\u001b[1;32m    642\u001b[0m \u001b[39mdef\u001b[39;00m \u001b[39mhttp_error_default\u001b[39m(\u001b[39mself\u001b[39m, req, fp, code, msg, hdrs):\n\u001b[0;32m--> 643\u001b[0m     \u001b[39mraise\u001b[39;00m HTTPError(req\u001b[39m.\u001b[39mfull_url, code, msg, hdrs, fp)\n",
      "\u001b[0;31mHTTPError\u001b[0m: HTTP Error 500: Internal Server Error",
      "\nDuring handling of the above exception, another exception occurred:\n",
      "\u001b[0;31mTransportError\u001b[0m                            Traceback (most recent call last)",
      "File \u001b[0;32m~/anaconda3/envs/ds/lib/python3.10/site-packages/suds/client.py:652\u001b[0m, in \u001b[0;36mSoapClient.send\u001b[0;34m(self, soapenv)\u001b[0m\n\u001b[1;32m    651\u001b[0m request\u001b[39m.\u001b[39mheaders \u001b[39m=\u001b[39m \u001b[39mself\u001b[39m\u001b[39m.\u001b[39mheaders()\n\u001b[0;32m--> 652\u001b[0m reply \u001b[39m=\u001b[39m transport\u001b[39m.\u001b[39;49msend(request)\n\u001b[1;32m    653\u001b[0m ctx \u001b[39m=\u001b[39m plugins\u001b[39m.\u001b[39mmessage\u001b[39m.\u001b[39mreceived(reply\u001b[39m=\u001b[39mreply\u001b[39m.\u001b[39mmessage)\n",
      "File \u001b[0;32m~/anaconda3/envs/ds/lib/python3.10/site-packages/suds/transport/http.py:178\u001b[0m, in \u001b[0;36mHttpAuthenticated.send\u001b[0;34m(self, request)\u001b[0m\n\u001b[1;32m    177\u001b[0m \u001b[39mself\u001b[39m\u001b[39m.\u001b[39maddcredentials(request)\n\u001b[0;32m--> 178\u001b[0m \u001b[39mreturn\u001b[39;00m HttpTransport\u001b[39m.\u001b[39;49msend(\u001b[39mself\u001b[39;49m, request)\n",
      "File \u001b[0;32m~/anaconda3/envs/ds/lib/python3.10/site-packages/suds/transport/http.py:86\u001b[0m, in \u001b[0;36mHttpTransport.send\u001b[0;34m(self, request)\u001b[0m\n\u001b[1;32m     85\u001b[0m     \u001b[39melse\u001b[39;00m:\n\u001b[0;32m---> 86\u001b[0m         \u001b[39mraise\u001b[39;00m TransportError(e\u001b[39m.\u001b[39mmsg, e\u001b[39m.\u001b[39mcode, e\u001b[39m.\u001b[39mfp)\n\u001b[1;32m     87\u001b[0m \u001b[39mreturn\u001b[39;00m result\n",
      "\u001b[0;31mTransportError\u001b[0m: Internal Server Error",
      "\nDuring handling of the above exception, another exception occurred:\n",
      "\u001b[0;31mWebFault\u001b[0m                                  Traceback (most recent call last)",
      "Cell \u001b[0;32mIn[3], line 6\u001b[0m\n\u001b[1;32m      3\u001b[0m \u001b[39mfrom\u001b[39;00m \u001b[39mwos\u001b[39;00m \u001b[39mimport\u001b[39;00m WosClient\n\u001b[1;32m      4\u001b[0m \u001b[39mimport\u001b[39;00m \u001b[39mwos\u001b[39;00m\u001b[39m.\u001b[39;00m\u001b[39mutils\u001b[39;00m\n\u001b[0;32m----> 6\u001b[0m \u001b[39mwith\u001b[39;00m WosClient(SID\u001b[39m=\u001b[39m\u001b[39m'\u001b[39m\u001b[39mf312e2fe4d304f467ec3bd7d2af46ea75c5817d7\u001b[39m\u001b[39m'\u001b[39m) \u001b[39mas\u001b[39;00m client:\n\u001b[1;32m      7\u001b[0m     \u001b[39mprint\u001b[39m(wos\u001b[39m.\u001b[39mutils\u001b[39m.\u001b[39mquery(client, \u001b[39m'\u001b[39m\u001b[39mAU=Knuth Donald\u001b[39m\u001b[39m'\u001b[39m))\n",
      "File \u001b[0;32m~/anaconda3/envs/ds/lib/python3.10/site-packages/wos/client.py:53\u001b[0m, in \u001b[0;36mWosClient.__exit__\u001b[0;34m(self, exc_type, exc_value, traceback)\u001b[0m\n\u001b[1;32m     51\u001b[0m \u001b[39m\"\"\"Close connection after closing the 'with' statement.\"\"\"\u001b[39;00m\n\u001b[1;32m     52\u001b[0m \u001b[39mif\u001b[39;00m \u001b[39mself\u001b[39m\u001b[39m.\u001b[39m_close_on_exit:\n\u001b[0;32m---> 53\u001b[0m     \u001b[39mself\u001b[39;49m\u001b[39m.\u001b[39;49mclose()\n",
      "File \u001b[0;32m~/anaconda3/envs/ds/lib/python3.10/site-packages/wos/client.py:127\u001b[0m, in \u001b[0;36mWosClient.close\u001b[0;34m(self)\u001b[0m\n\u001b[1;32m    122\u001b[0m \u001b[39m\"\"\"The close operation loads the session if it is valid and then closes\u001b[39;00m\n\u001b[1;32m    123\u001b[0m \u001b[39mit and releases the session seat. All the session data are deleted and\u001b[39;00m\n\u001b[1;32m    124\u001b[0m \u001b[39mbecome invalid after the request is processed. The session ID can no\u001b[39;00m\n\u001b[1;32m    125\u001b[0m \u001b[39mlonger be used in subsequent requests.\"\"\"\u001b[39;00m\n\u001b[1;32m    126\u001b[0m \u001b[39mif\u001b[39;00m \u001b[39mself\u001b[39m\u001b[39m.\u001b[39m_SID:\n\u001b[0;32m--> 127\u001b[0m     \u001b[39mself\u001b[39;49m\u001b[39m.\u001b[39;49m_auth\u001b[39m.\u001b[39;49mservice\u001b[39m.\u001b[39;49mcloseSession()\n\u001b[1;32m    128\u001b[0m     \u001b[39mself\u001b[39m\u001b[39m.\u001b[39m_SID \u001b[39m=\u001b[39m \u001b[39mNone\u001b[39;00m\n",
      "File \u001b[0;32m~/anaconda3/envs/ds/lib/python3.10/site-packages/suds/client.py:559\u001b[0m, in \u001b[0;36mMethod.__call__\u001b[0;34m(self, *args, **kwargs)\u001b[0m\n\u001b[1;32m    557\u001b[0m         \u001b[39mreturn\u001b[39;00m (\u001b[39m500\u001b[39m, e)\n\u001b[1;32m    558\u001b[0m \u001b[39melse\u001b[39;00m:\n\u001b[0;32m--> 559\u001b[0m     \u001b[39mreturn\u001b[39;00m client\u001b[39m.\u001b[39;49minvoke(args, kwargs)\n",
      "File \u001b[0;32m~/anaconda3/envs/ds/lib/python3.10/site-packages/suds/client.py:618\u001b[0m, in \u001b[0;36mSoapClient.invoke\u001b[0;34m(self, args, kwargs)\u001b[0m\n\u001b[1;32m    614\u001b[0m metrics\u001b[39m.\u001b[39mlog\u001b[39m.\u001b[39mdebug(\u001b[39m\"\u001b[39m\u001b[39mmessage for \u001b[39m\u001b[39m'\u001b[39m\u001b[39m%s\u001b[39;00m\u001b[39m'\u001b[39m\u001b[39m created: \u001b[39m\u001b[39m%s\u001b[39;00m\u001b[39m\"\u001b[39m,\n\u001b[1;32m    615\u001b[0m                   \u001b[39mself\u001b[39m\u001b[39m.\u001b[39mmethod\u001b[39m.\u001b[39mname,\n\u001b[1;32m    616\u001b[0m                   timer)\n\u001b[1;32m    617\u001b[0m timer\u001b[39m.\u001b[39mstart()\n\u001b[0;32m--> 618\u001b[0m result \u001b[39m=\u001b[39m \u001b[39mself\u001b[39;49m\u001b[39m.\u001b[39;49msend(soapenv)\n\u001b[1;32m    619\u001b[0m timer\u001b[39m.\u001b[39mstop()\n\u001b[1;32m    620\u001b[0m metrics\u001b[39m.\u001b[39mlog\u001b[39m.\u001b[39mdebug(\u001b[39m\"\u001b[39m\u001b[39mmethod \u001b[39m\u001b[39m'\u001b[39m\u001b[39m%s\u001b[39;00m\u001b[39m'\u001b[39m\u001b[39m invoked: \u001b[39m\u001b[39m%s\u001b[39;00m\u001b[39m\"\u001b[39m,\n\u001b[1;32m    621\u001b[0m                   \u001b[39mself\u001b[39m\u001b[39m.\u001b[39mmethod\u001b[39m.\u001b[39mname,\n\u001b[1;32m    622\u001b[0m                   timer)\n",
      "File \u001b[0;32m~/anaconda3/envs/ds/lib/python3.10/site-packages/suds/client.py:664\u001b[0m, in \u001b[0;36mSoapClient.send\u001b[0;34m(self, soapenv)\u001b[0m\n\u001b[1;32m    662\u001b[0m     \u001b[39melse\u001b[39;00m:\n\u001b[1;32m    663\u001b[0m         log\u001b[39m.\u001b[39merror(\u001b[39mself\u001b[39m\u001b[39m.\u001b[39mlast_sent())\n\u001b[0;32m--> 664\u001b[0m         result \u001b[39m=\u001b[39m \u001b[39mself\u001b[39;49m\u001b[39m.\u001b[39;49mfailed(binding, e)\n\u001b[1;32m    665\u001b[0m \u001b[39mreturn\u001b[39;00m result\n",
      "File \u001b[0;32m~/anaconda3/envs/ds/lib/python3.10/site-packages/suds/client.py:720\u001b[0m, in \u001b[0;36mSoapClient.failed\u001b[0;34m(self, binding, error)\u001b[0m\n\u001b[1;32m    718\u001b[0m \u001b[39mif\u001b[39;00m status \u001b[39m==\u001b[39m \u001b[39m500\u001b[39m:\n\u001b[1;32m    719\u001b[0m     \u001b[39mif\u001b[39;00m \u001b[39mlen\u001b[39m(reply) \u001b[39m>\u001b[39m \u001b[39m0\u001b[39m:\n\u001b[0;32m--> 720\u001b[0m         r, p \u001b[39m=\u001b[39m binding\u001b[39m.\u001b[39;49mget_fault(reply)\n\u001b[1;32m    721\u001b[0m         \u001b[39mself\u001b[39m\u001b[39m.\u001b[39mlast_received(r)\n\u001b[1;32m    722\u001b[0m         \u001b[39mreturn\u001b[39;00m (status, p)\n",
      "File \u001b[0;32m~/anaconda3/envs/ds/lib/python3.10/site-packages/suds/bindings/binding.py:267\u001b[0m, in \u001b[0;36mBinding.get_fault\u001b[0;34m(self, reply)\u001b[0m\n\u001b[1;32m    265\u001b[0m p \u001b[39m=\u001b[39m unmarshaller\u001b[39m.\u001b[39mprocess(fault)\n\u001b[1;32m    266\u001b[0m \u001b[39mif\u001b[39;00m \u001b[39mself\u001b[39m\u001b[39m.\u001b[39moptions()\u001b[39m.\u001b[39mfaults:\n\u001b[0;32m--> 267\u001b[0m     \u001b[39mraise\u001b[39;00m WebFault(p, faultroot)\n\u001b[1;32m    268\u001b[0m \u001b[39mreturn\u001b[39;00m (faultroot, p\u001b[39m.\u001b[39mdetail)\n",
      "\u001b[0;31mWebFault\u001b[0m: b\"Server raised fault: 'Session not found: SID=f312e2fe4d304f467ec3bd7d2af46ea75c5817d7'\""
     ]
    }
   ],
   "source": [
    "# Scrapping WOS v.1\n",
    "\n",
    "from wos import WosClient\n",
    "import wos.utils\n",
    "\n",
    "with WosClient(SID='f312e2fe4d304f467ec3bd7d2af46ea75c5817d7') as client:\n",
    "    print(wos.utils.query(client, 'AU=Knuth Donald'))"
   ]
  },
  {
   "cell_type": "code",
   "execution_count": 4,
   "metadata": {},
   "outputs": [
    {
     "ename": "ModuleNotFoundError",
     "evalue": "No module named 'clarivate'",
     "output_type": "error",
     "traceback": [
      "\u001b[0;31m---------------------------------------------------------------------------\u001b[0m",
      "\u001b[0;31mModuleNotFoundError\u001b[0m                       Traceback (most recent call last)",
      "Cell \u001b[0;32mIn[4], line 5\u001b[0m\n\u001b[1;32m      1\u001b[0m \u001b[39m# Scrapping WOS v.2\u001b[39;00m\n\u001b[1;32m      2\u001b[0m \u001b[39m# Package outdated\u001b[39;00m\n\u001b[1;32m      4\u001b[0m \u001b[39mimport\u001b[39;00m \u001b[39mtime\u001b[39;00m\n\u001b[0;32m----> 5\u001b[0m \u001b[39mimport\u001b[39;00m \u001b[39mclarivate\u001b[39;00m\u001b[39m.\u001b[39;00m\u001b[39mwos_starter\u001b[39;00m\u001b[39m.\u001b[39;00m\u001b[39mclient\u001b[39;00m\n\u001b[1;32m      6\u001b[0m \u001b[39mfrom\u001b[39;00m \u001b[39mpprint\u001b[39;00m \u001b[39mimport\u001b[39;00m pprint\n\u001b[1;32m      7\u001b[0m \u001b[39mfrom\u001b[39;00m \u001b[39mclarivate\u001b[39;00m\u001b[39m.\u001b[39;00m\u001b[39mwos_starter\u001b[39;00m\u001b[39m.\u001b[39;00m\u001b[39mclient\u001b[39;00m\u001b[39m.\u001b[39;00m\u001b[39mapis\u001b[39;00m\u001b[39m.\u001b[39;00m\u001b[39mtags\u001b[39;00m \u001b[39mimport\u001b[39;00m documents_api\n",
      "\u001b[0;31mModuleNotFoundError\u001b[0m: No module named 'clarivate'"
     ]
    }
   ],
   "source": [
    "# Scrapping WOS v.2\n",
    "# Package outdated\n",
    "\n",
    "import time\n",
    "import clarivate.wos_starter.client\n",
    "from pprint import pprint\n",
    "from clarivate.wos_starter.client.apis.tags import documents_api\n",
    "from clarivate.wos_starter.client.model.document import Document\n",
    "from clarivate.wos_starter.client.model.documents_list import DocumentsList"
   ]
  },
  {
   "cell_type": "code",
   "execution_count": null,
   "metadata": {},
   "outputs": [],
   "source": [
    "# Scrapping Sci-Hub\n",
    "\n",
    "from scihub import SciHub\n",
    "\n",
    "sh = SciHub()\n",
    "\n",
    "# exactly the same thing as fetch except downloads the articles to disk\n",
    "# if no path given, a unique name will be used as the file name\n",
    "result = sh.download('https://onlinelibrary.wiley.com/doi/full/10.1111/gcb.12569', path='paper.pdf')"
   ]
  }
 ],
 "metadata": {
  "kernelspec": {
   "display_name": "ds",
   "language": "python",
   "name": "python3"
  },
  "language_info": {
   "codemirror_mode": {
    "name": "ipython",
    "version": 3
   },
   "file_extension": ".py",
   "mimetype": "text/x-python",
   "name": "python",
   "nbconvert_exporter": "python",
   "pygments_lexer": "ipython3",
   "version": "3.10.4"
  },
  "orig_nbformat": 4
 },
 "nbformat": 4,
 "nbformat_minor": 2
}
