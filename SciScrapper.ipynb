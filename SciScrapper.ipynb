{
 "cells": [
  {
   "cell_type": "code",
   "execution_count": 2,
   "metadata": {},
   "outputs": [
    {
     "name": "stderr",
     "output_type": "stream",
     "text": [
      "<?xml version=\"1.0\" encoding=\"UTF-8\"?>\n",
      "<SOAP-ENV:Envelope xmlns:SOAP-ENV=\"http://schemas.xmlsoap.org/soap/envelope/\" xmlns:xsi=\"http://www.w3.org/2001/XMLSchema-instance\" xmlns:ns0=\"http://schemas.xmlsoap.org/soap/envelope/\" xmlns:ns1=\"http://auth.cxf.wokmws.thomsonreuters.com\">\n",
      "   <SOAP-ENV:Header/>\n",
      "   <ns0:Body>\n",
      "      <ns1:authenticate/>\n",
      "   </ns0:Body>\n",
      "</SOAP-ENV:Envelope>\n"
     ]
    },
    {
     "ename": "WebFault",
     "evalue": "b\"Server raised fault: 'No matches returned for Username emil.raducanu@cirad.fr'\"",
     "output_type": "error",
     "traceback": [
      "\u001b[0;31m---------------------------------------------------------------------------\u001b[0m",
      "\u001b[0;31mHTTPError\u001b[0m                                 Traceback (most recent call last)",
      "File \u001b[0;32m~/anaconda3/envs/ds/lib/python3.10/site-packages/suds/transport/http.py:78\u001b[0m, in \u001b[0;36mHttpTransport.send\u001b[0;34m(self, request)\u001b[0m\n\u001b[1;32m     77\u001b[0m log\u001b[39m.\u001b[39mdebug(\u001b[39m'\u001b[39m\u001b[39msending:\u001b[39m\u001b[39m\\n\u001b[39;00m\u001b[39m%s\u001b[39;00m\u001b[39m'\u001b[39m, request)\n\u001b[0;32m---> 78\u001b[0m fp \u001b[39m=\u001b[39m \u001b[39mself\u001b[39;49m\u001b[39m.\u001b[39;49mu2open(u2request)\n\u001b[1;32m     79\u001b[0m \u001b[39mself\u001b[39m\u001b[39m.\u001b[39mgetcookies(fp, u2request)\n",
      "File \u001b[0;32m~/anaconda3/envs/ds/lib/python3.10/site-packages/suds/transport/http.py:119\u001b[0m, in \u001b[0;36mHttpTransport.u2open\u001b[0;34m(self, u2request)\u001b[0m\n\u001b[1;32m    118\u001b[0m \u001b[39melse\u001b[39;00m:\n\u001b[0;32m--> 119\u001b[0m     \u001b[39mreturn\u001b[39;00m url\u001b[39m.\u001b[39;49mopen(u2request, timeout\u001b[39m=\u001b[39;49mtm)\n",
      "File \u001b[0;32m~/anaconda3/envs/ds/lib/python3.10/urllib/request.py:525\u001b[0m, in \u001b[0;36mOpenerDirector.open\u001b[0;34m(self, fullurl, data, timeout)\u001b[0m\n\u001b[1;32m    524\u001b[0m     meth \u001b[39m=\u001b[39m \u001b[39mgetattr\u001b[39m(processor, meth_name)\n\u001b[0;32m--> 525\u001b[0m     response \u001b[39m=\u001b[39m meth(req, response)\n\u001b[1;32m    527\u001b[0m \u001b[39mreturn\u001b[39;00m response\n",
      "File \u001b[0;32m~/anaconda3/envs/ds/lib/python3.10/urllib/request.py:634\u001b[0m, in \u001b[0;36mHTTPErrorProcessor.http_response\u001b[0;34m(self, request, response)\u001b[0m\n\u001b[1;32m    633\u001b[0m \u001b[39mif\u001b[39;00m \u001b[39mnot\u001b[39;00m (\u001b[39m200\u001b[39m \u001b[39m<\u001b[39m\u001b[39m=\u001b[39m code \u001b[39m<\u001b[39m \u001b[39m300\u001b[39m):\n\u001b[0;32m--> 634\u001b[0m     response \u001b[39m=\u001b[39m \u001b[39mself\u001b[39;49m\u001b[39m.\u001b[39;49mparent\u001b[39m.\u001b[39;49merror(\n\u001b[1;32m    635\u001b[0m         \u001b[39m'\u001b[39;49m\u001b[39mhttp\u001b[39;49m\u001b[39m'\u001b[39;49m, request, response, code, msg, hdrs)\n\u001b[1;32m    637\u001b[0m \u001b[39mreturn\u001b[39;00m response\n",
      "File \u001b[0;32m~/anaconda3/envs/ds/lib/python3.10/urllib/request.py:563\u001b[0m, in \u001b[0;36mOpenerDirector.error\u001b[0;34m(self, proto, *args)\u001b[0m\n\u001b[1;32m    562\u001b[0m args \u001b[39m=\u001b[39m (\u001b[39mdict\u001b[39m, \u001b[39m'\u001b[39m\u001b[39mdefault\u001b[39m\u001b[39m'\u001b[39m, \u001b[39m'\u001b[39m\u001b[39mhttp_error_default\u001b[39m\u001b[39m'\u001b[39m) \u001b[39m+\u001b[39m orig_args\n\u001b[0;32m--> 563\u001b[0m \u001b[39mreturn\u001b[39;00m \u001b[39mself\u001b[39;49m\u001b[39m.\u001b[39;49m_call_chain(\u001b[39m*\u001b[39;49margs)\n",
      "File \u001b[0;32m~/anaconda3/envs/ds/lib/python3.10/urllib/request.py:496\u001b[0m, in \u001b[0;36mOpenerDirector._call_chain\u001b[0;34m(self, chain, kind, meth_name, *args)\u001b[0m\n\u001b[1;32m    495\u001b[0m func \u001b[39m=\u001b[39m \u001b[39mgetattr\u001b[39m(handler, meth_name)\n\u001b[0;32m--> 496\u001b[0m result \u001b[39m=\u001b[39m func(\u001b[39m*\u001b[39;49margs)\n\u001b[1;32m    497\u001b[0m \u001b[39mif\u001b[39;00m result \u001b[39mis\u001b[39;00m \u001b[39mnot\u001b[39;00m \u001b[39mNone\u001b[39;00m:\n",
      "File \u001b[0;32m~/anaconda3/envs/ds/lib/python3.10/urllib/request.py:643\u001b[0m, in \u001b[0;36mHTTPDefaultErrorHandler.http_error_default\u001b[0;34m(self, req, fp, code, msg, hdrs)\u001b[0m\n\u001b[1;32m    642\u001b[0m \u001b[39mdef\u001b[39;00m \u001b[39mhttp_error_default\u001b[39m(\u001b[39mself\u001b[39m, req, fp, code, msg, hdrs):\n\u001b[0;32m--> 643\u001b[0m     \u001b[39mraise\u001b[39;00m HTTPError(req\u001b[39m.\u001b[39mfull_url, code, msg, hdrs, fp)\n",
      "\u001b[0;31mHTTPError\u001b[0m: HTTP Error 500: Internal Server Error",
      "\nDuring handling of the above exception, another exception occurred:\n",
      "\u001b[0;31mTransportError\u001b[0m                            Traceback (most recent call last)",
      "File \u001b[0;32m~/anaconda3/envs/ds/lib/python3.10/site-packages/suds/client.py:652\u001b[0m, in \u001b[0;36mSoapClient.send\u001b[0;34m(self, soapenv)\u001b[0m\n\u001b[1;32m    651\u001b[0m request\u001b[39m.\u001b[39mheaders \u001b[39m=\u001b[39m \u001b[39mself\u001b[39m\u001b[39m.\u001b[39mheaders()\n\u001b[0;32m--> 652\u001b[0m reply \u001b[39m=\u001b[39m transport\u001b[39m.\u001b[39;49msend(request)\n\u001b[1;32m    653\u001b[0m ctx \u001b[39m=\u001b[39m plugins\u001b[39m.\u001b[39mmessage\u001b[39m.\u001b[39mreceived(reply\u001b[39m=\u001b[39mreply\u001b[39m.\u001b[39mmessage)\n",
      "File \u001b[0;32m~/anaconda3/envs/ds/lib/python3.10/site-packages/suds/transport/http.py:178\u001b[0m, in \u001b[0;36mHttpAuthenticated.send\u001b[0;34m(self, request)\u001b[0m\n\u001b[1;32m    177\u001b[0m \u001b[39mself\u001b[39m\u001b[39m.\u001b[39maddcredentials(request)\n\u001b[0;32m--> 178\u001b[0m \u001b[39mreturn\u001b[39;00m HttpTransport\u001b[39m.\u001b[39;49msend(\u001b[39mself\u001b[39;49m, request)\n",
      "File \u001b[0;32m~/anaconda3/envs/ds/lib/python3.10/site-packages/suds/transport/http.py:86\u001b[0m, in \u001b[0;36mHttpTransport.send\u001b[0;34m(self, request)\u001b[0m\n\u001b[1;32m     85\u001b[0m     \u001b[39melse\u001b[39;00m:\n\u001b[0;32m---> 86\u001b[0m         \u001b[39mraise\u001b[39;00m TransportError(e\u001b[39m.\u001b[39mmsg, e\u001b[39m.\u001b[39mcode, e\u001b[39m.\u001b[39mfp)\n\u001b[1;32m     87\u001b[0m \u001b[39mreturn\u001b[39;00m result\n",
      "\u001b[0;31mTransportError\u001b[0m: Internal Server Error",
      "\nDuring handling of the above exception, another exception occurred:\n",
      "\u001b[0;31mWebFault\u001b[0m                                  Traceback (most recent call last)",
      "Cell \u001b[0;32mIn[2], line 4\u001b[0m\n\u001b[1;32m      1\u001b[0m \u001b[39m# Scrapping WOSfrom wos import WosClient\u001b[39;00m\n\u001b[1;32m      2\u001b[0m \u001b[39mimport\u001b[39;00m \u001b[39mwos\u001b[39;00m\u001b[39m.\u001b[39;00m\u001b[39mutils\u001b[39;00m\n\u001b[0;32m----> 4\u001b[0m \u001b[39mwith\u001b[39;00m WosClient(\u001b[39m'\u001b[39m\u001b[39memil.raducanu@cirad.fr\u001b[39m\u001b[39m'\u001b[39m, \u001b[39m'\u001b[39m\u001b[39mP9\u001b[39m\u001b[39m%\u001b[39m\u001b[39m8M$VPn$\u001b[39m\u001b[39m%\u001b[39m\u001b[39mZmD#6PPYUG*EyRq*ThmZvW9zq6^Q57pRvFyD9dkUZ^M5rZiYz7bie96uCF@2&pr^PdgJC#LPHfc\u001b[39m\u001b[39m%\u001b[39m\u001b[39mptoUk@@\u001b[39m\u001b[39m'\u001b[39m) \u001b[39mas\u001b[39;00m client:\n\u001b[1;32m      5\u001b[0m     \u001b[39mprint\u001b[39m(wos\u001b[39m.\u001b[39mutils\u001b[39m.\u001b[39mquery(client, \u001b[39m'\u001b[39m\u001b[39mAU=Knuth Donald\u001b[39m\u001b[39m'\u001b[39m))\n",
      "File \u001b[0;32m~/anaconda3/envs/ds/lib/python3.10/site-packages/wos/client.py:47\u001b[0m, in \u001b[0;36mWosClient.__enter__\u001b[0;34m(self)\u001b[0m\n\u001b[1;32m     45\u001b[0m \u001b[39mdef\u001b[39;00m \u001b[39m__enter__\u001b[39m(\u001b[39mself\u001b[39m):\n\u001b[1;32m     46\u001b[0m     \u001b[39m\"\"\"Automatically connect when used with 'with' statements.\"\"\"\u001b[39;00m\n\u001b[0;32m---> 47\u001b[0m     \u001b[39mself\u001b[39;49m\u001b[39m.\u001b[39;49mconnect()\n\u001b[1;32m     48\u001b[0m     \u001b[39mreturn\u001b[39;00m \u001b[39mself\u001b[39m\n",
      "File \u001b[0;32m~/anaconda3/envs/ds/lib/python3.10/site-packages/wos/client.py:114\u001b[0m, in \u001b[0;36mWosClient.connect\u001b[0;34m(self)\u001b[0m\n\u001b[1;32m    112\u001b[0m \u001b[39m\"\"\"Authenticate to WOS and set the SID cookie.\"\"\"\u001b[39;00m\n\u001b[1;32m    113\u001b[0m \u001b[39mif\u001b[39;00m \u001b[39mnot\u001b[39;00m \u001b[39mself\u001b[39m\u001b[39m.\u001b[39m_SID:\n\u001b[0;32m--> 114\u001b[0m     \u001b[39mself\u001b[39m\u001b[39m.\u001b[39m_SID \u001b[39m=\u001b[39m \u001b[39mself\u001b[39;49m\u001b[39m.\u001b[39;49m_auth\u001b[39m.\u001b[39;49mservice\u001b[39m.\u001b[39;49mauthenticate()\n\u001b[1;32m    115\u001b[0m     \u001b[39mprint\u001b[39m((\u001b[39m'\u001b[39m\u001b[39mAuthenticated (SID: \u001b[39m\u001b[39m%s\u001b[39;00m\u001b[39m)\u001b[39m\u001b[39m'\u001b[39m \u001b[39m%\u001b[39m \u001b[39mself\u001b[39m\u001b[39m.\u001b[39m_SID)\u001b[39m.\u001b[39mencode(\u001b[39m'\u001b[39m\u001b[39mutf-8\u001b[39m\u001b[39m'\u001b[39m))\n\u001b[1;32m    117\u001b[0m \u001b[39mself\u001b[39m\u001b[39m.\u001b[39m_search\u001b[39m.\u001b[39mset_options(headers\u001b[39m=\u001b[39m{\u001b[39m'\u001b[39m\u001b[39mCookie\u001b[39m\u001b[39m'\u001b[39m: \u001b[39m'\u001b[39m\u001b[39mSID=\u001b[39m\u001b[39m\"\u001b[39m\u001b[39m%s\u001b[39;00m\u001b[39m\"\u001b[39m\u001b[39m'\u001b[39m \u001b[39m%\u001b[39m \u001b[39mself\u001b[39m\u001b[39m.\u001b[39m_SID})\n",
      "File \u001b[0;32m~/anaconda3/envs/ds/lib/python3.10/site-packages/suds/client.py:559\u001b[0m, in \u001b[0;36mMethod.__call__\u001b[0;34m(self, *args, **kwargs)\u001b[0m\n\u001b[1;32m    557\u001b[0m         \u001b[39mreturn\u001b[39;00m (\u001b[39m500\u001b[39m, e)\n\u001b[1;32m    558\u001b[0m \u001b[39melse\u001b[39;00m:\n\u001b[0;32m--> 559\u001b[0m     \u001b[39mreturn\u001b[39;00m client\u001b[39m.\u001b[39;49minvoke(args, kwargs)\n",
      "File \u001b[0;32m~/anaconda3/envs/ds/lib/python3.10/site-packages/suds/client.py:618\u001b[0m, in \u001b[0;36mSoapClient.invoke\u001b[0;34m(self, args, kwargs)\u001b[0m\n\u001b[1;32m    614\u001b[0m metrics\u001b[39m.\u001b[39mlog\u001b[39m.\u001b[39mdebug(\u001b[39m\"\u001b[39m\u001b[39mmessage for \u001b[39m\u001b[39m'\u001b[39m\u001b[39m%s\u001b[39;00m\u001b[39m'\u001b[39m\u001b[39m created: \u001b[39m\u001b[39m%s\u001b[39;00m\u001b[39m\"\u001b[39m,\n\u001b[1;32m    615\u001b[0m                   \u001b[39mself\u001b[39m\u001b[39m.\u001b[39mmethod\u001b[39m.\u001b[39mname,\n\u001b[1;32m    616\u001b[0m                   timer)\n\u001b[1;32m    617\u001b[0m timer\u001b[39m.\u001b[39mstart()\n\u001b[0;32m--> 618\u001b[0m result \u001b[39m=\u001b[39m \u001b[39mself\u001b[39;49m\u001b[39m.\u001b[39;49msend(soapenv)\n\u001b[1;32m    619\u001b[0m timer\u001b[39m.\u001b[39mstop()\n\u001b[1;32m    620\u001b[0m metrics\u001b[39m.\u001b[39mlog\u001b[39m.\u001b[39mdebug(\u001b[39m\"\u001b[39m\u001b[39mmethod \u001b[39m\u001b[39m'\u001b[39m\u001b[39m%s\u001b[39;00m\u001b[39m'\u001b[39m\u001b[39m invoked: \u001b[39m\u001b[39m%s\u001b[39;00m\u001b[39m\"\u001b[39m,\n\u001b[1;32m    621\u001b[0m                   \u001b[39mself\u001b[39m\u001b[39m.\u001b[39mmethod\u001b[39m.\u001b[39mname,\n\u001b[1;32m    622\u001b[0m                   timer)\n",
      "File \u001b[0;32m~/anaconda3/envs/ds/lib/python3.10/site-packages/suds/client.py:664\u001b[0m, in \u001b[0;36mSoapClient.send\u001b[0;34m(self, soapenv)\u001b[0m\n\u001b[1;32m    662\u001b[0m     \u001b[39melse\u001b[39;00m:\n\u001b[1;32m    663\u001b[0m         log\u001b[39m.\u001b[39merror(\u001b[39mself\u001b[39m\u001b[39m.\u001b[39mlast_sent())\n\u001b[0;32m--> 664\u001b[0m         result \u001b[39m=\u001b[39m \u001b[39mself\u001b[39;49m\u001b[39m.\u001b[39;49mfailed(binding, e)\n\u001b[1;32m    665\u001b[0m \u001b[39mreturn\u001b[39;00m result\n",
      "File \u001b[0;32m~/anaconda3/envs/ds/lib/python3.10/site-packages/suds/client.py:720\u001b[0m, in \u001b[0;36mSoapClient.failed\u001b[0;34m(self, binding, error)\u001b[0m\n\u001b[1;32m    718\u001b[0m \u001b[39mif\u001b[39;00m status \u001b[39m==\u001b[39m \u001b[39m500\u001b[39m:\n\u001b[1;32m    719\u001b[0m     \u001b[39mif\u001b[39;00m \u001b[39mlen\u001b[39m(reply) \u001b[39m>\u001b[39m \u001b[39m0\u001b[39m:\n\u001b[0;32m--> 720\u001b[0m         r, p \u001b[39m=\u001b[39m binding\u001b[39m.\u001b[39;49mget_fault(reply)\n\u001b[1;32m    721\u001b[0m         \u001b[39mself\u001b[39m\u001b[39m.\u001b[39mlast_received(r)\n\u001b[1;32m    722\u001b[0m         \u001b[39mreturn\u001b[39;00m (status, p)\n",
      "File \u001b[0;32m~/anaconda3/envs/ds/lib/python3.10/site-packages/suds/bindings/binding.py:267\u001b[0m, in \u001b[0;36mBinding.get_fault\u001b[0;34m(self, reply)\u001b[0m\n\u001b[1;32m    265\u001b[0m p \u001b[39m=\u001b[39m unmarshaller\u001b[39m.\u001b[39mprocess(fault)\n\u001b[1;32m    266\u001b[0m \u001b[39mif\u001b[39;00m \u001b[39mself\u001b[39m\u001b[39m.\u001b[39moptions()\u001b[39m.\u001b[39mfaults:\n\u001b[0;32m--> 267\u001b[0m     \u001b[39mraise\u001b[39;00m WebFault(p, faultroot)\n\u001b[1;32m    268\u001b[0m \u001b[39mreturn\u001b[39;00m (faultroot, p\u001b[39m.\u001b[39mdetail)\n",
      "\u001b[0;31mWebFault\u001b[0m: b\"Server raised fault: 'No matches returned for Username emil.raducanu@cirad.fr'\""
     ]
    }
   ],
   "source": [
    "# Scrapping WOS\n",
    "\n",
    "from wos import WosClient\n",
    "import wos.utils\n",
    "\n",
    "with WosClient('emil.raducanu@cirad.fr', 'P9%8M$VPn$%ZmD#6PPYUG*EyRq*ThmZvW9zq6^Q57pRvFyD9dkUZ^M5rZiYz7bie96uCF@2&pr^PdgJC#LPHfc%ptoUk@@') as client:\n",
    "    print(wos.utils.query(client, 'AU=Knuth Donald'))"
   ]
  },
  {
   "cell_type": "code",
   "execution_count": 1,
   "metadata": {},
   "outputs": [
    {
     "name": "stderr",
     "output_type": "stream",
     "text": [
      "INFO:Sci-Hub:Failed to fetch pdf with identifier https://onlinelibrary.wiley.com/doi/full/10.1111/gcb.12569 (resolved url None) due to request exception.\n"
     ]
    }
   ],
   "source": [
    "# Scrapping Sci-Hub\n",
    "\n",
    "from scihub import SciHub\n",
    "\n",
    "sh = SciHub()\n",
    "\n",
    "# exactly the same thing as fetch except downloads the articles to disk\n",
    "# if no path given, a unique name will be used as the file name\n",
    "result = sh.download('https://onlinelibrary.wiley.com/doi/full/10.1111/gcb.12569', path='paper.pdf')"
   ]
  }
 ],
 "metadata": {
  "kernelspec": {
   "display_name": "ds",
   "language": "python",
   "name": "python3"
  },
  "language_info": {
   "codemirror_mode": {
    "name": "ipython",
    "version": 3
   },
   "file_extension": ".py",
   "mimetype": "text/x-python",
   "name": "python",
   "nbconvert_exporter": "python",
   "pygments_lexer": "ipython3",
   "version": "3.10.4"
  },
  "orig_nbformat": 4
 },
 "nbformat": 4,
 "nbformat_minor": 2
}
