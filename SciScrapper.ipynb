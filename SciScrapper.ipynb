{
 "cells": [
  {
   "cell_type": "code",
   "execution_count": null,
   "metadata": {},
   "outputs": [],
   "source": [
    "# API WoS v.1 (unofficial https://github.com/enricobacis/wos/tree/master)\n",
    "\n",
    "from wos import WosClient\n",
    "import wos.utils\n",
    "\n",
    "with WosClient(SID='f312e2fe4d304f467ec3bd7d2af46ea75c5817d7') as client:\n",
    "    print(wos.utils.query(client, 'AU=Knuth Donald'))"
   ]
  },
  {
   "cell_type": "code",
   "execution_count": null,
   "metadata": {},
   "outputs": [],
   "source": [
    "# API WoS v.2 (official https://github.com/clarivate/wosstarter_python_client)\n",
    "# Package outdated (setup.py)\n",
    "\n",
    "import time\n",
    "import clarivate.wos_starter.client\n",
    "from pprint import pprint\n",
    "from clarivate.wos_starter.client.apis.tags import documents_api\n",
    "from clarivate.wos_starter.client.model.document import Document\n",
    "from clarivate.wos_starter.client.model.documents_list import DocumentsList"
   ]
  },
  {
   "cell_type": "code",
   "execution_count": 23,
   "metadata": {},
   "outputs": [
    {
     "ename": "ImportError",
     "evalue": "cannot import name 'Options' from 'selenium.webdriver.common.options' (/home/er/anaconda3/envs/ds/lib/python3.10/site-packages/selenium/webdriver/common/options.py)",
     "output_type": "error",
     "traceback": [
      "\u001b[0;31m---------------------------------------------------------------------------\u001b[0m",
      "\u001b[0;31mImportError\u001b[0m                               Traceback (most recent call last)",
      "Cell \u001b[0;32mIn[23], line 8\u001b[0m\n\u001b[1;32m      6\u001b[0m \u001b[39mfrom\u001b[39;00m \u001b[39mselenium\u001b[39;00m \u001b[39mimport\u001b[39;00m webdriver\n\u001b[1;32m      7\u001b[0m \u001b[39mfrom\u001b[39;00m \u001b[39mselenium\u001b[39;00m\u001b[39m.\u001b[39;00m\u001b[39mwebdriver\u001b[39;00m\u001b[39m.\u001b[39;00m\u001b[39mcommon\u001b[39;00m\u001b[39m.\u001b[39;00m\u001b[39mby\u001b[39;00m \u001b[39mimport\u001b[39;00m By\n\u001b[0;32m----> 8\u001b[0m \u001b[39mfrom\u001b[39;00m \u001b[39mselenium\u001b[39;00m\u001b[39m.\u001b[39;00m\u001b[39mwebdriver\u001b[39;00m\u001b[39m.\u001b[39;00m\u001b[39mcommon\u001b[39;00m\u001b[39m.\u001b[39;00m\u001b[39moptions\u001b[39;00m \u001b[39mimport\u001b[39;00m Options\n\u001b[1;32m     10\u001b[0m \u001b[39m# Change user agent if blocked by Clavirate\u001b[39;00m\n\u001b[1;32m     11\u001b[0m \u001b[39m# ua = UserAgent()\u001b[39;00m\n\u001b[1;32m     12\u001b[0m \u001b[39m# headers = {'User-Agent': ua.random}\u001b[39;00m\n\u001b[1;32m     13\u001b[0m \u001b[39m# response = requests.get(url, headers=headers)\u001b[39;00m\n\u001b[1;32m     15\u001b[0m url \u001b[39m=\u001b[39m \u001b[39m\"\u001b[39m\u001b[39mhttps://www.webofscience.com/wos/woscc/advanced-search\u001b[39m\u001b[39m\"\u001b[39m\n",
      "\u001b[0;31mImportError\u001b[0m: cannot import name 'Options' from 'selenium.webdriver.common.options' (/home/er/anaconda3/envs/ds/lib/python3.10/site-packages/selenium/webdriver/common/options.py)"
     ]
    }
   ],
   "source": [
    "# Homemade WoS API (scratch scrapping)\n",
    "\n",
    "from bs4 import BeautifulSoup\n",
    "from fake_useragent import UserAgent\n",
    "import requests\n",
    "from selenium import webdriver\n",
    "from selenium.webdriver.common.by import By\n",
    "from selenium.webdriver.common.options import Options\n",
    "\n",
    "# Change user agent if blocked by Clavirate\n",
    "# ua = UserAgent()\n",
    "# headers = {'User-Agent': ua.random}\n",
    "# response = requests.get(url, headers=headers)\n",
    "\n",
    "url = \"https://www.webofscience.com/wos/woscc/advanced-search\"\n",
    "\n",
    "options = Options()\n",
    "options.add_argument(\"--headless\")\n",
    "driver = webdriver.Firefox(options=options)\n",
    "driver.get(url)\n",
    "\n",
    "reject_cookies_button = driver.find_element(By.ID, \"onetrust-reject-all-handler\")\n",
    "reject_cookies_button.click()\n",
    "\n",
    "search_input = driver.find_element(By.ID, \"advancedSearchInputArea\")\n",
    "\n",
    "\n",
    "\n",
    "# query = \"au=beillouin\"\n",
    "# search_input.send_keys(query)\n",
    "# search_input.submit()\n",
    "# html_content = driver.page_source\n",
    "# soup = BeautifulSoup(html_content, \"html.parser\")\n",
    "\n",
    "# print(soup.prettify())\n",
    "\n",
    "\n",
    "\n",
    "\n"
   ]
  },
  {
   "cell_type": "code",
   "execution_count": null,
   "metadata": {},
   "outputs": [],
   "source": [
    "# API Sci-Hub (https://github.com/zaytoun/scihub.py/tree/master)\n",
    "\n",
    "from scihub import SciHub\n",
    "\n",
    "sh = SciHub()\n",
    "\n",
    "# exactly the same thing as fetch except downloads the articles to disk\n",
    "# if no path given, a unique name will be used as the file name\n",
    "result = sh.download('https://onlinelibrary.wiley.com/doi/full/10.1111/gcb.12569', path='paper.pdf')"
   ]
  }
 ],
 "metadata": {
  "kernelspec": {
   "display_name": "ds",
   "language": "python",
   "name": "python3"
  },
  "language_info": {
   "codemirror_mode": {
    "name": "ipython",
    "version": 3
   },
   "file_extension": ".py",
   "mimetype": "text/x-python",
   "name": "python",
   "nbconvert_exporter": "python",
   "pygments_lexer": "ipython3",
   "version": "3.10.4"
  },
  "orig_nbformat": 4
 },
 "nbformat": 4,
 "nbformat_minor": 2
}
