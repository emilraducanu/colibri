{
 "cells": [
  {
   "cell_type": "code",
   "execution_count": null,
   "metadata": {},
   "outputs": [],
   "source": [
    "# API WoS v.1 (unofficial https://github.com/enricobacis/wos/tree/master)\n",
    "\n",
    "from wos import WosClient\n",
    "import wos.utils\n",
    "\n",
    "with WosClient(SID='f312e2fe4d304f467ec3bd7d2af46ea75c5817d7') as client:\n",
    "    print(wos.utils.query(client, 'AU=Knuth Donald'))"
   ]
  },
  {
   "cell_type": "code",
   "execution_count": null,
   "metadata": {},
   "outputs": [],
   "source": [
    "# API WoS v.2 (official https://github.com/clarivate/wosstarter_python_client)\n",
    "# Package outdated (setup.py)\n",
    "\n",
    "import time\n",
    "import clarivate.wos_starter.client\n",
    "from pprint import pprint\n",
    "from clarivate.wos_starter.client.apis.tags import documents_api\n",
    "from clarivate.wos_starter.client.model.document import Document\n",
    "from clarivate.wos_starter.client.model.documents_list import DocumentsList"
   ]
  },
  {
   "cell_type": "code",
   "execution_count": 54,
   "metadata": {},
   "outputs": [
    {
     "ename": "ValueError",
     "evalue": "max() arg is an empty sequence",
     "output_type": "error",
     "traceback": [
      "\u001b[0;31m---------------------------------------------------------------------------\u001b[0m",
      "\u001b[0;31mValueError\u001b[0m                                Traceback (most recent call last)",
      "Cell \u001b[0;32mIn[54], line 102\u001b[0m\n\u001b[1;32m     54\u001b[0m     \u001b[39mmatch\u001b[39;00m plateform:\n\u001b[1;32m     55\u001b[0m \n\u001b[1;32m     56\u001b[0m         \u001b[39mcase\u001b[39;00m \u001b[39m0\u001b[39m:\n\u001b[0;32m   (...)\u001b[0m\n\u001b[1;32m     92\u001b[0m             latest_file \u001b[39m=\u001b[39m \u001b[39mmax\u001b[39m(downloaded_files, key\u001b[39m=\u001b[39mos\u001b[39m.\u001b[39mpath\u001b[39m.\u001b[39mgetctime)\n\u001b[1;32m     93\u001b[0m             shutil\u001b[39m.\u001b[39mmove(latest_file, \u001b[39m\"\u001b[39m\u001b[39m./data/papers_metadata_\u001b[39m\u001b[39m\"\u001b[39m) \u001b[39m#+str(i)\u001b[39;00m\n\u001b[1;32m     96\u001b[0m         \u001b[39m# case 1:\u001b[39;00m\n\u001b[1;32m     97\u001b[0m         \u001b[39m#     xxx\u001b[39;00m\n\u001b[1;32m     98\u001b[0m \n\u001b[1;32m     99\u001b[0m         \u001b[39m# case _:\u001b[39;00m\n\u001b[1;32m    100\u001b[0m         \u001b[39m#     # manage error\u001b[39;00m\n\u001b[0;32m--> 102\u001b[0m get_papers_metadata(\u001b[39m0\u001b[39;49m, \u001b[39m\"\u001b[39;49m\u001b[39mts = soil organic carbon\u001b[39;49m\u001b[39m\"\u001b[39;49m)\n",
      "Cell \u001b[0;32mIn[54], line 92\u001b[0m, in \u001b[0;36mget_papers_metadata\u001b[0;34m(plateform, query)\u001b[0m\n\u001b[1;32m     22\u001b[0m \u001b[39mdef\u001b[39;00m \u001b[39mget_papers_metadata\u001b[39m(plateform: \u001b[39mint\u001b[39m, query: \u001b[39mstr\u001b[39m):\n\u001b[1;32m     24\u001b[0m     \u001b[39m\"\"\"Get metadata (title, authors, DOI, etc.) of papers coming from scientific literature platforms\u001b[39;00m\n\u001b[1;32m     25\u001b[0m \n\u001b[1;32m     26\u001b[0m \u001b[39m    This function provides metadata of scientific articles coming from the\u001b[39;00m\n\u001b[0;32m   (...)\u001b[0m\n\u001b[1;32m     51\u001b[0m \n\u001b[1;32m     52\u001b[0m \u001b[39m    \"\"\"\u001b[39;00m\n\u001b[1;32m     54\u001b[0m     \u001b[39mmatch\u001b[39;00m plateform:\n\u001b[1;32m     55\u001b[0m \n\u001b[1;32m     56\u001b[0m         \u001b[39mcase\u001b[39;00m \u001b[39m0\u001b[39m:\n\u001b[1;32m     57\u001b[0m             \n\u001b[1;32m     58\u001b[0m             url \u001b[39m=\u001b[39m \u001b[39m\"\u001b[39m\u001b[39mhttps://www.webofscience.com/wos/woscc/advanced-search\u001b[39m\u001b[39m\"\u001b[39m\n\u001b[1;32m     59\u001b[0m             driver \u001b[39m=\u001b[39m webdriver\u001b[39m.\u001b[39mFirefox() \u001b[39m# manage various web browser\u001b[39;00m\n\u001b[1;32m     60\u001b[0m             driver\u001b[39m.\u001b[39mget(url)\n\u001b[1;32m     61\u001b[0m \n\u001b[1;32m     62\u001b[0m             time\u001b[39m.\u001b[39msleep(\u001b[39m3\u001b[39m)\n\u001b[1;32m     63\u001b[0m             driver\u001b[39m.\u001b[39mfind_element(By\u001b[39m.\u001b[39mID, \u001b[39m\"\u001b[39m\u001b[39monetrust-reject-all-handler\u001b[39m\u001b[39m\"\u001b[39m)\u001b[39m.\u001b[39mclick()\n\u001b[1;32m     64\u001b[0m             \n\u001b[1;32m     65\u001b[0m             time\u001b[39m.\u001b[39msleep(\u001b[39m2\u001b[39m)\n\u001b[1;32m     66\u001b[0m             search_input \u001b[39m=\u001b[39m driver\u001b[39m.\u001b[39mfind_element(By\u001b[39m.\u001b[39mID, \u001b[39m\"\u001b[39m\u001b[39madvancedSearchInputArea\u001b[39m\u001b[39m\"\u001b[39m)\n\u001b[1;32m     67\u001b[0m             search_input\u001b[39m.\u001b[39msend_keys(query)\n\u001b[1;32m     68\u001b[0m             search_input\u001b[39m.\u001b[39msubmit()\n\u001b[1;32m     69\u001b[0m             \n\u001b[1;32m     70\u001b[0m             time\u001b[39m.\u001b[39msleep(\u001b[39m2\u001b[39m)\n\u001b[1;32m     71\u001b[0m             driver\u001b[39m.\u001b[39mfind_element(By\u001b[39m.\u001b[39mXPATH, \u001b[39m\"\u001b[39m\u001b[39m/html/body/app-wos/main/div/div/div[2]/div/div/div[2]/app-input-route/app-base-summary-component/div/div[2]/app-page-controls[1]/div/app-export-option/div/app-export-menu/div/button\u001b[39m\u001b[39m\"\u001b[39m)\u001b[39m.\u001b[39mclick()\n\u001b[1;32m     72\u001b[0m             \n\u001b[1;32m     73\u001b[0m             time\u001b[39m.\u001b[39msleep(\u001b[39m1\u001b[39m)\n\u001b[1;32m     74\u001b[0m             driver\u001b[39m.\u001b[39mfind_element(By\u001b[39m.\u001b[39mID, \u001b[39m\"\u001b[39m\u001b[39mexportToExcelButton\u001b[39m\u001b[39m\"\u001b[39m)\u001b[39m.\u001b[39mclick()\n\u001b[1;32m     75\u001b[0m \n\u001b[1;32m     76\u001b[0m             records_from_button \u001b[39m=\u001b[39m driver\u001b[39m.\u001b[39mfind_element(By\u001b[39m.\u001b[39mID, \u001b[39m\"\u001b[39m\u001b[39mradio3-input\u001b[39m\u001b[39m\"\u001b[39m)\n\u001b[1;32m     77\u001b[0m             driver\u001b[39m.\u001b[39mexecute_script(\u001b[39m\"\u001b[39m\u001b[39marguments[0].click();\u001b[39m\u001b[39m\"\u001b[39m, records_from_button)\n\u001b[1;32m     78\u001b[0m \n\u001b[1;32m     79\u001b[0m             low_bound \u001b[39m=\u001b[39m driver\u001b[39m.\u001b[39mfind_element(By\u001b[39m.\u001b[39mID, \u001b[39m\"\u001b[39m\u001b[39mmat-input-1\u001b[39m\u001b[39m\"\u001b[39m)\n\u001b[1;32m     80\u001b[0m             low_bound\u001b[39m.\u001b[39mclear()\n\u001b[1;32m     81\u001b[0m             low_bound\u001b[39m.\u001b[39msend_keys(\u001b[39m\"\u001b[39m\u001b[39m2\u001b[39m\u001b[39m\"\u001b[39m)\n\u001b[1;32m     82\u001b[0m             high_bound \u001b[39m=\u001b[39m driver\u001b[39m.\u001b[39mfind_element(By\u001b[39m.\u001b[39mID, \u001b[39m\"\u001b[39m\u001b[39mmat-input-2\u001b[39m\u001b[39m\"\u001b[39m)\n\u001b[1;32m     83\u001b[0m             high_bound\u001b[39m.\u001b[39mclear()\n\u001b[1;32m     84\u001b[0m             high_bound\u001b[39m.\u001b[39msend_keys(\u001b[39m\"\u001b[39m\u001b[39m1001\u001b[39m\u001b[39m\"\u001b[39m)\n\u001b[1;32m     85\u001b[0m \n\u001b[1;32m     86\u001b[0m             driver\u001b[39m.\u001b[39mfind_element(By\u001b[39m.\u001b[39mXPATH, \u001b[39m\"\u001b[39m\u001b[39m/html/body/app-wos/main/div/div/div[2]/div/div/div[2]/app-input-route[1]/app-export-overlay/div/div[3]/div[2]/app-export-out-details/div/div[2]/form/div/div[1]/wos-select/button\u001b[39m\u001b[39m\"\u001b[39m)\u001b[39m.\u001b[39mclick()\n\u001b[1;32m     87\u001b[0m             driver\u001b[39m.\u001b[39mfind_element(By\u001b[39m.\u001b[39mXPATH, \u001b[39m\"\u001b[39m\u001b[39m/html/body/app-wos/main/div/div/div[2]/div/div/div[2]/app-input-route[1]/app-export-overlay/div/div[3]/div[2]/app-export-out-details/div/div[2]/form/div/div[1]/wos-select/div/div/div/div[3]\u001b[39m\u001b[39m\"\u001b[39m)\u001b[39m.\u001b[39mclick()\n\u001b[1;32m     88\u001b[0m             driver\u001b[39m.\u001b[39mfind_element(By\u001b[39m.\u001b[39mXPATH, \u001b[39m\"\u001b[39m\u001b[39m/html/body/app-wos/main/div/div/div[2]/div/div/div[2]/app-input-route[1]/app-export-overlay/div/div[3]/div[2]/app-export-out-details/div/div[2]/form/div/div[2]/button[1]\u001b[39m\u001b[39m\"\u001b[39m)\u001b[39m.\u001b[39mclick()\n\u001b[1;32m     89\u001b[0m             \n\u001b[1;32m     90\u001b[0m             time\u001b[39m.\u001b[39msleep(\u001b[39m10\u001b[39m)\n\u001b[1;32m     91\u001b[0m             downloaded_files \u001b[39m=\u001b[39m glob\u001b[39m.\u001b[39mglob(\u001b[39m'\u001b[39m\u001b[39m~/Downloads/*.xls\u001b[39m\u001b[39m'\u001b[39m)\n\u001b[0;32m---> 92\u001b[0m             latest_file \u001b[39m=\u001b[39m \u001b[39mmax\u001b[39;49m(downloaded_files, key\u001b[39m=\u001b[39;49mos\u001b[39m.\u001b[39;49mpath\u001b[39m.\u001b[39;49mgetctime)\n\u001b[1;32m     93\u001b[0m             shutil\u001b[39m.\u001b[39mmove(latest_file, \u001b[39m\"\u001b[39m\u001b[39m./data/papers_metadata_\u001b[39m\u001b[39m\"\u001b[39m)\n",
      "\u001b[0;31mValueError\u001b[0m: max() arg is an empty sequence"
     ]
    }
   ],
   "source": [
    "# Homemade WoS API (scratch scrapping)\n",
    "\n",
    "\n",
    "# If the request is blocked by Clavirate,\n",
    "# this code might be useful to change the user agent \n",
    "\n",
    "# from fake_useragent import UserAgent\n",
    "# ua = UserAgent()\n",
    "# headers = {'User-Agent': ua.random}\n",
    "# response = requests.get(url, headers=headers)\n",
    "\n",
    "import os\n",
    "import shutil\n",
    "import time\n",
    "import glob\n",
    "from bs4 import BeautifulSoup\n",
    "import requests\n",
    "from selenium import webdriver\n",
    "from selenium.webdriver.common.by import By\n",
    "\n",
    "\n",
    "def get_papers_metadata(plateform: int, query: str):\n",
    "    \n",
    "    \"\"\"Get metadata (title, authors, DOI, etc.) of papers coming from scientific literature platforms\n",
    "\n",
    "    This function provides metadata of scientific articles coming from the\n",
    "    results of a searching query on scientific literature platform. The\n",
    "    metadata collected for each article are:\n",
    "    * DOI\n",
    "    * Title\n",
    "    * Authors\n",
    "    * Publication year\n",
    "    * Abstract\n",
    "    * Keywords\n",
    "    * Language\n",
    "    * Affiliation\n",
    "    * Journal\n",
    "    * Publisher\n",
    "    * Volume\n",
    "    * Issue\n",
    "    The platforms supported are:\n",
    "    * Web of Science (https://www.webofscience.com/wos/woscc/advanced-search)\n",
    "\n",
    "    Parameters:\n",
    "    plateform (int): platform identification code\n",
    "                     0: Web of Science\n",
    "    query (str): searching query (must respect the sythax of the platform used)\n",
    "\n",
    "    Returns:\n",
    "    xxx\n",
    "\n",
    "    \"\"\"\n",
    "\n",
    "    match plateform:\n",
    "\n",
    "        case 0:\n",
    "            \n",
    "            url = \"https://www.webofscience.com/wos/woscc/advanced-search\"\n",
    "            driver = webdriver.Firefox() # manage various web browser\n",
    "            driver.get(url)\n",
    "\n",
    "            time.sleep(3)\n",
    "            driver.find_element(By.ID, \"onetrust-reject-all-handler\").click()\n",
    "            \n",
    "            time.sleep(2)\n",
    "            search_input = driver.find_element(By.ID, \"advancedSearchInputArea\")\n",
    "            search_input.send_keys(query)\n",
    "            search_input.submit()\n",
    "            \n",
    "            time.sleep(2)\n",
    "            driver.find_element(By.XPATH, \"/html/body/app-wos/main/div/div/div[2]/div/div/div[2]/app-input-route/app-base-summary-component/div/div[2]/app-page-controls[1]/div/app-export-option/div/app-export-menu/div/button\").click()\n",
    "            \n",
    "            time.sleep(1)\n",
    "            driver.find_element(By.ID, \"exportToExcelButton\").click()\n",
    "\n",
    "            records_from_button = driver.find_element(By.ID, \"radio3-input\")\n",
    "            driver.execute_script(\"arguments[0].click();\", records_from_button)\n",
    "\n",
    "            low_bound = driver.find_element(By.ID, \"mat-input-1\")\n",
    "            low_bound.clear()\n",
    "            low_bound.send_keys(\"2\")\n",
    "            high_bound = driver.find_element(By.ID, \"mat-input-2\")\n",
    "            high_bound.clear()\n",
    "            high_bound.send_keys(\"1001\")\n",
    "\n",
    "            driver.find_element(By.XPATH, \"/html/body/app-wos/main/div/div/div[2]/div/div/div[2]/app-input-route[1]/app-export-overlay/div/div[3]/div[2]/app-export-out-details/div/div[2]/form/div/div[1]/wos-select/button\").click()\n",
    "            driver.find_element(By.XPATH, \"/html/body/app-wos/main/div/div/div[2]/div/div/div[2]/app-input-route[1]/app-export-overlay/div/div[3]/div[2]/app-export-out-details/div/div[2]/form/div/div[1]/wos-select/div/div/div/div[3]\").click()\n",
    "            driver.find_element(By.XPATH, \"/html/body/app-wos/main/div/div/div[2]/div/div/div[2]/app-input-route[1]/app-export-overlay/div/div[3]/div[2]/app-export-out-details/div/div[2]/form/div/div[2]/button[1]\").click()\n",
    "            \n",
    "            time.sleep(10)\n",
    "            downloaded_files = os.listdir(\"/home/er/Downloads\")\n",
    "            latest_file = max(downloaded_files, key=os.path.getctime)\n",
    "            shutil.move(latest_file, \"./data/papers_metadata_\") #+str(i)\n",
    "\n",
    "\n",
    "        # case 1:\n",
    "        #     xxx\n",
    "\n",
    "        # case _:\n",
    "        #     # manage error\n",
    "    \n",
    "get_papers_metadata(0, \"ts = (“meta*analysis” OR “systematic review”) AND (“soil organic carbon” OR SOC OR “soil organic matter” OR SOM OR “soil carbon”)\")\n"
   ]
  },
  {
   "cell_type": "code",
   "execution_count": 71,
   "metadata": {},
   "outputs": [
    {
     "ename": "FileNotFoundError",
     "evalue": "[Errno 2] No such file or directory: 'savedrecs(2).xls'",
     "output_type": "error",
     "traceback": [
      "\u001b[0;31m---------------------------------------------------------------------------\u001b[0m",
      "\u001b[0;31mFileNotFoundError\u001b[0m                         Traceback (most recent call last)",
      "Cell \u001b[0;32mIn[71], line 4\u001b[0m\n\u001b[1;32m      1\u001b[0m downloaded_files \u001b[39m=\u001b[39m os\u001b[39m.\u001b[39mlistdir(\u001b[39m\"\u001b[39m\u001b[39m/home/er/Downloads\u001b[39m\u001b[39m\"\u001b[39m)\n\u001b[1;32m      2\u001b[0m \u001b[39m# print(downloaded_files)\u001b[39;00m\n\u001b[1;32m      3\u001b[0m \u001b[39m# print(str(os.path.getctime))\u001b[39;00m\n\u001b[0;32m----> 4\u001b[0m latest_file \u001b[39m=\u001b[39m \u001b[39mmax\u001b[39;49m(downloaded_files, key\u001b[39m=\u001b[39;49mos\u001b[39m.\u001b[39;49mpath\u001b[39m.\u001b[39;49mgetctime)\n",
      "File \u001b[0;32m~/anaconda3/envs/ds/lib/python3.10/genericpath.py:65\u001b[0m, in \u001b[0;36mgetctime\u001b[0;34m(filename)\u001b[0m\n\u001b[1;32m     63\u001b[0m \u001b[39mdef\u001b[39;00m \u001b[39mgetctime\u001b[39m(filename):\n\u001b[1;32m     64\u001b[0m     \u001b[39m\"\"\"Return the metadata change time of a file, reported by os.stat().\"\"\"\u001b[39;00m\n\u001b[0;32m---> 65\u001b[0m     \u001b[39mreturn\u001b[39;00m os\u001b[39m.\u001b[39;49mstat(filename)\u001b[39m.\u001b[39mst_ctime\n",
      "\u001b[0;31mFileNotFoundError\u001b[0m: [Errno 2] No such file or directory: 'savedrecs(2).xls'"
     ]
    }
   ],
   "source": [
    "downloaded_files = os.listdir(\"/home/er/Downloads\")\n",
    "# print(downloaded_files)\n",
    "# print(str(os.path.getctime))\n",
    "latest_file = max(downloaded_files, key=os.path.getctime)\n",
    "# shutil.move(\"/home/er/Downloads\"+latest_file, \"./data/papers_metadata_\") #+str(i)"
   ]
  },
  {
   "cell_type": "code",
   "execution_count": null,
   "metadata": {},
   "outputs": [],
   "source": [
    "# API Sci-Hub (https://github.com/zaytoun/scihub.py/tree/master)\n",
    "\n",
    "from scihub import SciHub\n",
    "\n",
    "sh = SciHub()\n",
    "\n",
    "# exactly the same thing as fetch except downloads the articles to disk\n",
    "# if no path given, a unique name will be used as the file name\n",
    "result = sh.download('https://onlinelibrary.wiley.com/doi/full/10.1111/gcb.12569', path='paper.pdf')"
   ]
  }
 ],
 "metadata": {
  "kernelspec": {
   "display_name": "ds",
   "language": "python",
   "name": "python3"
  },
  "language_info": {
   "codemirror_mode": {
    "name": "ipython",
    "version": 3
   },
   "file_extension": ".py",
   "mimetype": "text/x-python",
   "name": "python",
   "nbconvert_exporter": "python",
   "pygments_lexer": "ipython3",
   "version": "3.10.4"
  },
  "orig_nbformat": 4
 },
 "nbformat": 4,
 "nbformat_minor": 2
}
